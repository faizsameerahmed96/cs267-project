{
 "cells": [
  {
   "cell_type": "markdown",
   "metadata": {},
   "source": [
    "# Agentic Search \n",
    "\n",
    "<p>Start agentic search using Langchain. We will define a agent with the following tools:</p>\n",
    "\n",
    "- Ability to query our Qdrant database \n",
    "  \n",
    "  - Allow it to also make it's own queries and get the best query\n",
    "  \n",
    "- Ability to open our pdf and read a particular page"
   ]
  },
  {
   "cell_type": "code",
   "execution_count": 148,
   "metadata": {},
   "outputs": [],
   "source": [
    "# !pip install -qU langchain-qdrant"
   ]
  },
  {
   "cell_type": "code",
   "execution_count": 149,
   "metadata": {},
   "outputs": [],
   "source": [
    "MAX_CHUNK_SIZE = 1024"
   ]
  },
  {
   "cell_type": "code",
   "execution_count": 150,
   "metadata": {},
   "outputs": [],
   "source": [
    "from langchain_openai import OpenAIEmbeddings\n",
    "from langchain_core.prompts import ChatPromptTemplate, MessagesPlaceholder\n",
    "from langchain_qdrant import QdrantVectorStore\n",
    "from langchain.tools.retriever import create_retriever_tool\n",
    "from qdrant_client import QdrantClient\n",
    "from langchain_core.tools import Tool\n",
    "from langchain_core.tools import tool\n",
    "from langchain.agents.output_parsers.openai_tools import OpenAIToolsAgentOutputParser\n",
    "from langchain.agents.format_scratchpad.openai_tools import (\n",
    "    format_to_openai_tool_messages,\n",
    ")\n",
    "import pymupdf\n",
    "\n",
    "from langchain.agents import AgentExecutor, Tool, ZeroShotAgent\n",
    "from langchain.chains import LLMChain\n",
    "from langchain_openai import ChatOpenAI \n",
    "\n",
    "embeddings_model = OpenAIEmbeddings(model=\"text-embedding-3-small\", chunk_size=MAX_CHUNK_SIZE)\n",
    "client = QdrantClient(url=\"http://localhost:6333\")"
   ]
  },
  {
   "cell_type": "code",
   "execution_count": 151,
   "metadata": {},
   "outputs": [],
   "source": [
    "vector_store = QdrantVectorStore(\n",
    "    client=client,\n",
    "    collection_name=\"pdf_collection\",\n",
    "    embedding=embeddings_model,\n",
    ")\n",
    "retriever = vector_store.as_retriever()"
   ]
  },
  {
   "cell_type": "markdown",
   "metadata": {},
   "source": [
    "## Building The Agent"
   ]
  },
  {
   "cell_type": "markdown",
   "metadata": {},
   "source": []
  },
  {
   "cell_type": "code",
   "execution_count": 152,
   "metadata": {},
   "outputs": [],
   "source": [
    "@tool\n",
    "def natural_language_query(input: str):\n",
    "    \"\"\" Will query the vector store that contains information about the research papers and return the top 10 most relevant chunks from all the papers.\n",
    "\n",
    "    Args:\n",
    "    input: A string that represents the query. This could be anything, a question, a sentence, etc. Feel free to try different queries if you are not able to get the desired results.\n",
    "\n",
    "    Each result has the following structure:\n",
    "    {\n",
    "        \"text\": \"string\",\n",
    "        \"pdf_path\": \"string\", # the path to the pdf file\n",
    "        \"page_number\": 0, # the page number where the text is located\n",
    "        \"idx\": string # the pdf is chunked into smaller pieces, this is the id of the chunk. eg: 1.txt, 2.txt, etc. Each document is split sequentially into chunks.\n",
    "        \"score\": 0.0 # the cosine similarity between the input and the text\n",
    "    }\n",
    "    \"\"\"\n",
    "    result = client.search(collection_name=\"pdf_collection\", query_vector=embeddings_model.embed_documents([input])[0], limit=10)\n",
    "    return [{'text': r.payload['text'], 'pdf_path': r.payload['pdf_file'], 'page_number': r.payload['page'], 'idx': r.payload['idx'], 'score': r.score} for r in result]"
   ]
  },
  {
   "cell_type": "code",
   "execution_count": 153,
   "metadata": {},
   "outputs": [],
   "source": [
    "@tool\n",
    "def read_pdf_page(pdf_file: str, page: int):\n",
    "    \"\"\" Will read the entire page for the pdf file and return the text.\n",
    "        Args:\n",
    "        pdf_file: The path to the pdf file.\n",
    "        page: The page number to read from the pdf file.\n",
    "    \"\"\"\n",
    "\n",
    "    pdf = pymupdf.open(pdf_file)\n",
    "    return pdf[page - 1].get_text()"
   ]
  },
  {
   "cell_type": "code",
   "execution_count": 154,
   "metadata": {},
   "outputs": [],
   "source": [
    "research_prompt = ChatPromptTemplate.from_messages([\n",
    "    (\n",
    "        \"system\",\n",
    "        \"\"\"\n",
    "        You are a agent that is going to be searching technical research papers. You will be given a topic to find information on. You will need to find the most relevant information and return back the information with sources. \n",
    "        Make sure you only return information that you have retrieved from the research papers. Do not make up any information. You will have access to tools to help you find the information.\n",
    "\n",
    "        Make sure to make uses of the tools provided. You can use the tools as many times as needed. Make sure you have all the information needed before returning the information. If you cannot find the information, just state that you could not find the information. Do not make up any information.\n",
    "\n",
    "        Return the output by stating the information you found and the source of the information in the format pdf_path - page number - the section (if mentioned) in the papers we queried. The page number and pdf_path should only be from our vector store, do not make up any page numbers or pdf paths.\n",
    "        Return only the bare minimum information needed and nothing more. Just enough to answer the question. Answer it concisely and only based on the information we have gotten through tool use.\n",
    "\n",
    "        Always make sure to use read_pdf_page to make sure we have the right answer and understand the context of the information.\n",
    "        Also make sure to use the natural_language_query tool many times with different queries that can be used to find the information needed. This means phrasing the question in different ways to get the most relevant information, asking your own questions, etc.\n",
    "\n",
    "        eg: \n",
    "        // brief summary of the information only based on the tools we used\n",
    "        // pdf_path \n",
    "        // page number\n",
    "        // section (if it can be found in the text of the result)\n",
    "        \"\"\"\n",
    "    ),\n",
    "    (\"human\", \"Research {research_topic}\"),\n",
    "    MessagesPlaceholder(variable_name=\"agent_scratchpad\"),\n",
    "])"
   ]
  },
  {
   "cell_type": "code",
   "execution_count": 155,
   "metadata": {},
   "outputs": [],
   "source": [
    "llm = ChatOpenAI(\n",
    "    model=\"gpt-4o\",\n",
    "    max_retries=2,\n",
    "    temperature=0.1,\n",
    ")\n",
    "agent_tools = [natural_language_query, read_pdf_page]\n",
    "llm = llm.bind_tools(agent_tools)"
   ]
  },
  {
   "cell_type": "code",
   "execution_count": 156,
   "metadata": {},
   "outputs": [],
   "source": [
    "def agent_scratchpad_formatter(x):\n",
    "    return format_to_openai_tool_messages(x[\"intermediate_steps\"])\n",
    "\n",
    "agent = (\n",
    "    {\n",
    "        \"research_topic\": lambda x: x[\"research_topic\"],\n",
    "        \"agent_scratchpad\": agent_scratchpad_formatter,\n",
    "    }\n",
    "    | research_prompt\n",
    "    | llm\n",
    "    | OpenAIToolsAgentOutputParser() # This gets the output from the OpenAI api call and gets the tool invocations from it. This then is executed by the AgentExecutor.\n",
    ")"
   ]
  },
  {
   "cell_type": "code",
   "execution_count": 157,
   "metadata": {},
   "outputs": [],
   "source": [
    "agent_executor = AgentExecutor(agent=agent, tools=agent_tools, verbose=True)"
   ]
  },
  {
   "cell_type": "code",
   "execution_count": 158,
   "metadata": {},
   "outputs": [
    {
     "name": "stdout",
     "output_type": "stream",
     "text": [
      "\n",
      "\n",
      "\u001b[1m> Entering new AgentExecutor chain...\u001b[0m\n",
      "\u001b[32;1m\u001b[1;3m\n",
      "Invoking: `natural_language_query` with `{'input': 'Paxos in Spanner'}`\n",
      "\n",
      "\n",
      "\u001b[0m\u001b[36;1m\u001b[1;3m[{'text': 'To support replication, each spanserver implements a single Paxos state machine on top of each tablet. (An early Spanner incarnation supported multiple Paxos state machines per tablet, which allowed for more ﬂexible replication conﬁgurations. The complexity of that design led us to abandon it.) Each state machine stores its meta- data and log in its corresponding tablet. Our Paxos implementation supports long-lived leaders with time-based leader leases, whose length defaults to 10 seconds. The cur- rent Spanner implementation logs every Paxos write twice: once in the tablet’s log, and once in the Paxos log. This choice was made out of expediency, and we are likely to rem- edy this eventually. Our implementation of Paxos is pipelined, so as to improve Span- ner’s throughput in the presence of WAN latencies. By “pipelined,” we mean Lamport’s “multi-decree parliament” [Lamport 1998], which both amortizes the cost of electing a leader across multiple decrees and allows for concurrent voting on different decrees.', 'pdf_path': '/Users/faizahmed/Documents/SJSU/topics_in_db/Project/data-ingestion/data/spanner.pdf', 'page_number': '4', 'idx': '17.txt', 'score': 0.638832}, {'text': '1. INTRODUCTION Spanner is a scalable, globally distributed database designed, built, and deployed at Google. At the highest level of abstraction, it is a database that shards data across many sets of Paxos [Lamport 1998] state machines in datacenters spread all over the world. Replication is used for global availability and geographic locality; clients automatically failover between replicas. Spanner automatically reshards data across machines as the amount of data or the number of servers changes, and it automati- cally migrates data across machines (even across datacenters) to balance load and in This article is essentially the same (with minor reorganizations, corrections, and additions) as the paper of the same title that appeared in the Proceedings of OSDI 2012. Authors’ address: J. C. Corbett, J. Dean, M. Epstein, A. Fikes, C. Frost, J. J. Furman, S. Ghemawat, A. Gubarev, C. Heiser, P. Hochschild, W. Hsieh (corresponding author), S. Kanthak, E. Kogan, H. Li, A. Lloyd, S. Melnik, D. Mwaura, D. Nagle, S.', 'pdf_path': '/Users/faizahmed/Documents/SJSU/topics_in_db/Project/data-ingestion/data/spanner.pdf', 'page_number': '1', 'idx': '3.txt', 'score': 0.59665823}, {'text': '4.1.1. Paxos Leader Leases. Spanner’s Paxos implementation uses timed leases to make leadership long-lived (10 seconds by default). A potential leader sends requests for timed lease votes; upon receiving a quorum of lease votes the leader knows it has a lease. A replica extends its lease vote implicitly on a successful write, and the leader requests lease-vote extensions if they are near expiration. Deﬁne a leader’s lease in- terval to start when it discovers it has a quorum of lease votes, and to end when it no longer has a quorum of lease votes (because some have expired). Spanner depends on the following disjointness invariant: for each Paxos group, each Paxos leader’s lease interval is disjoint from every other leader’s. Section 4.2.5 describes how this invariant is enforced.\\n\\nThe Spanner implementation permits a Paxos leader to abdicate by releasing its slaves from their lease votes. To preserve the disjointness invariant, Spanner', 'pdf_path': '/Users/faizahmed/Documents/SJSU/topics_in_db/Project/data-ingestion/data/spanner.pdf', 'page_number': '9', 'idx': '43.txt', 'score': 0.58728206}, {'text': 'Table VI presents Spanner operation latencies as measured from F1 servers. Repli- cas in the east coast data centers are given higher priority in choosing Paxos leaders. The data in the table is measured from F1 servers in those data centers. The large standard deviation in write latencies is caused by a pretty fat tail due to lock conﬂicts. The even larger standard deviation in read latencies is partially due to the fact that Paxos leaders are spread across two data centers, only one of which has machines with SSDs. In addition, the measurement includes every read in the system from two dat- acenters: the mean and standard deviation of the bytes read were roughly 1.6KB and 119KB, respectively.', 'pdf_path': '/Users/faizahmed/Documents/SJSU/topics_in_db/Project/data-ingestion/data/spanner.pdf', 'page_number': '18', 'idx': '85.txt', 'score': 0.5866728}, {'text': 'tPaxos safe as deﬁned here has a weakness in that it cannot advance in the absence of Paxos writes. That is, a snapshot read at t cannot execute at Paxos groups whose last write happened before t. Spanner addresses this problem by taking advantage of the disjointness of leader-lease intervals. Each Paxos leader advances tPaxos safe by keeping a threshold above which future writes’ timestamps will occur: it maintains a map- ping MinNextTS(n) from Paxos sequence number n to the minimum timestamp that may be assigned to Paxos sequence number n + 1. A replica can advance tPaxos to MinNextTS(n) − 1 when it has applied through n.', 'pdf_path': '/Users/faizahmed/Documents/SJSU/topics_in_db/Project/data-ingestion/data/spanner.pdf', 'page_number': '13', 'idx': '63.txt', 'score': 0.5828396}, {'text': 'Spanner: Google’s Globally Distributed Database\\n\\n8:5\\n\\nFig. 3. Directories are the unit of data movement between Paxos groups.\\n\\nranges of keys to lock states. (Note that having a long-lived Paxos leader is critical to efﬁciently managing the lock table.) In both Bigtable and Spanner, we designed for long-lived transactions (for example, for report generation, which might take on the order of minutes), which perform poorly under optimistic concurrency control in the presence of conﬂicts. Operations that require synchronization, such as transactional reads, acquire locks in the lock table; other operations bypass the lock table. The state of the lock table is mostly volatile (i.e., not replicated via Paxos): we explain the details further in Section 4.2.1.', 'pdf_path': '/Users/faizahmed/Documents/SJSU/topics_in_db/Project/data-ingestion/data/spanner.pdf', 'page_number': '5', 'idx': '20.txt', 'score': 0.57759774}, {'text': 'Spanner depends on the following monotonicity invariant: within each Paxos group, Spanner assigns timestamps to Paxos writes in monotonically increasing order, even across leaders. A single leader replica can trivially assign timestamps in monotoni- cally increasing order. This invariant is enforced across leaders by making use of the disjointness invariant: a leader must only assign timestamps within the interval of its leader lease. Note that whenever a timestamp s is assigned, smax is advanced to s to preserve disjointness.', 'pdf_path': '/Users/faizahmed/Documents/SJSU/topics_in_db/Project/data-ingestion/data/spanner.pdf', 'page_number': '10', 'idx': '45.txt', 'score': 0.5692804}, {'text': 'The fact that a Paxos group may contain multiple directories implies that a Span- ner tablet is different from a Bigtable tablet: the former is not necessarily a single lexicographically contiguous partition of the row space. Instead, a Spanner tablet is a container that may encapsulate multiple partitions of the row space. We made this decision so that it would be possible to colocate multiple directories that are frequently accessed together.\\n\\nMovedir is the background task used to move directories between Paxos groups [Douceur and Howell 2006]. Movedir is also used to add to or remove replicas\\n\\nACM Transactions on Computer Systems, Vol. 31, No. 3, Article 8, Publication date: August 2013.\\n\\n(cid:2)\\n\\n(cid:2)\\n\\n(cid:2)\\n\\n(cid:2)\\n\\n(cid:2)\\n\\n(cid:2)\\n\\n(cid:2)\\n\\n(cid:2)\\n\\n8:6', 'pdf_path': '/Users/faizahmed/Documents/SJSU/topics_in_db/Project/data-ingestion/data/spanner.pdf', 'page_number': '5', 'idx': '23.txt', 'score': 0.5640527}, {'text': '4.2.2. Snapshot Transactions. Assigning a timestamp requires a negotiation phase be- tween all of the Paxos groups that are involved in the reads. As a result, Spanner re- quires a scope expression for every snapshot transaction, which is an expression that summarizes the keys that will be read by the entire transaction. Spanner automati- cally infers the scope for standalone queries.', 'pdf_path': '/Users/faizahmed/Documents/SJSU/topics_in_db/Project/data-ingestion/data/spanner.pdf', 'page_number': '12', 'idx': '57.txt', 'score': 0.561951}, {'text': '8. CONCLUSIONS To summarize, Spanner combines and extends ideas from two research communities: from the database community, a familiar, easy-to-use, semirelational interface, trans- actions, and an SQL-based query language; from the systems community, scalability, automatic sharding, fault tolerance, consistent replication, external consistency, and wide-area distribution. Since Spanner’s inception, we have taken more than 5 years to iterate to the current design and implementation. Part of this long iteration phase was due to a slow realization that Spanner should not only tackle the problem of a globally replicated namespace, it should also focus on database features that Bigtable was missing. One aspect of our design stands out: the linchpin of Spanner’s feature set is True- Time. We have shown that reifying clock uncertainty in the time API makes it possible to build distributed systems with much stronger time semantics. In addition, as the underlying system enforces tighter bounds on clock uncertainty,', 'pdf_path': '/Users/faizahmed/Documents/SJSU/topics_in_db/Project/data-ingestion/data/spanner.pdf', 'page_number': '20', 'idx': '94.txt', 'score': 0.5478089}]\u001b[0m\u001b[32;1m\u001b[1;3m\n",
      "Invoking: `read_pdf_page` with `{'pdf_file': '/Users/faizahmed/Documents/SJSU/topics_in_db/Project/data-ingestion/data/spanner.pdf', 'page': 4}`\n",
      "\n",
      "\n",
      "\u001b[0m\u001b[33;1m\u001b[1;3m8:4\n",
      "J. C. Corbett et al.\n",
      "Fig. 2.\n",
      "Spanserver software stack.\n",
      "2.1. Spanserver Software Stack\n",
      "This section focuses on the spanserver implementation to illustrate how replication\n",
      "and distributed transactions have been layered onto our Bigtable-based implemen-\n",
      "tation. The software stack is shown in Figure 2. At the bottom, each spanserver is\n",
      "responsible for between 100 and 1000 instances of a data structure called a tablet. A\n",
      "tablet is similar to Bigtable’s tablet abstraction, in that it implements a bag of the\n",
      "following mappings.\n",
      "(key:string, timestamp:int64) →string\n",
      "Unlike Bigtable, Spanner assigns timestamps to data, which is an important way in\n",
      "which Spanner is more like a multiversion database than a key-value store. A tablet’s\n",
      "state is stored in a set of B-tree-like ﬁles and a write-ahead log, all on a distributed\n",
      "ﬁle system called Colossus (the successor to the Google File System [Ghemawat et al.\n",
      "2003]).\n",
      "To support replication, each spanserver implements a single Paxos state machine\n",
      "on top of each tablet. (An early Spanner incarnation supported multiple Paxos state\n",
      "machines per tablet, which allowed for more ﬂexible replication conﬁgurations. The\n",
      "complexity of that design led us to abandon it.) Each state machine stores its meta-\n",
      "data and log in its corresponding tablet. Our Paxos implementation supports long-lived\n",
      "leaders with time-based leader leases, whose length defaults to 10 seconds. The cur-\n",
      "rent Spanner implementation logs every Paxos write twice: once in the tablet’s log, and\n",
      "once in the Paxos log. This choice was made out of expediency, and we are likely to rem-\n",
      "edy this eventually. Our implementation of Paxos is pipelined, so as to improve Span-\n",
      "ner’s throughput in the presence of WAN latencies. By “pipelined,” we mean Lamport’s\n",
      "“multi-decree parliament” [Lamport 1998], which both amortizes the cost of electing a\n",
      "leader across multiple decrees and allows for concurrent voting on different decrees. It\n",
      "is important to note that although decrees may be approved out of order, the decrees\n",
      "are applied in order (a fact on which we will depend in Section 4).\n",
      "The Paxos state machines are used to implement a consistently replicated bag of\n",
      "mappings. The key-value mapping state of each replica is stored in its corresponding\n",
      "tablet. Writes must initiate the Paxos protocol at the leader; reads access state directly\n",
      "from the underlying tablet at any replica that is sufﬁciently up-to-date. The set of\n",
      "replicas is collectively a Paxos group.\n",
      "At every replica that is a leader, a spanserver implements a lock table to implement\n",
      "concurrency control. The lock table contains the state for two-phase locking: it maps\n",
      "ACM Transactions on Computer Systems, Vol. 31, No. 3, Article 8, Publication date: August 2013.\n",
      "\u001b[0m\u001b[32;1m\u001b[1;3mPaxos in Spanner is implemented as a single Paxos state machine on top of each tablet to support replication. Each state machine stores its metadata and log in its corresponding tablet. The Paxos implementation in Spanner supports long-lived leaders with time-based leader leases, typically lasting 10 seconds. The implementation is pipelined to improve throughput in the presence of WAN latencies, allowing for concurrent voting on different decrees. Although decrees may be approved out of order, they are applied in order. The Paxos state machines are used to implement a consistently replicated bag of mappings, with writes initiating the Paxos protocol at the leader and reads accessing state directly from any sufficiently up-to-date replica.\n",
      "\n",
      "- pdf_path: /Users/faizahmed/Documents/SJSU/topics_in_db/Project/data-ingestion/data/spanner.pdf\n",
      "- page number: 4\u001b[0m\n",
      "\n",
      "\u001b[1m> Finished chain.\u001b[0m\n"
     ]
    },
    {
     "data": {
      "text/plain": [
       "'Paxos in Spanner is implemented as a single Paxos state machine on top of each tablet to support replication. Each state machine stores its metadata and log in its corresponding tablet. The Paxos implementation in Spanner supports long-lived leaders with time-based leader leases, typically lasting 10 seconds. The implementation is pipelined to improve throughput in the presence of WAN latencies, allowing for concurrent voting on different decrees. Although decrees may be approved out of order, they are applied in order. The Paxos state machines are used to implement a consistently replicated bag of mappings, with writes initiating the Paxos protocol at the leader and reads accessing state directly from any sufficiently up-to-date replica.\\n\\n- pdf_path: /Users/faizahmed/Documents/SJSU/topics_in_db/Project/data-ingestion/data/spanner.pdf\\n- page number: 4'"
      ]
     },
     "execution_count": 158,
     "metadata": {},
     "output_type": "execute_result"
    }
   ],
   "source": [
    "research_agent_result = await agent_executor.ainvoke({\"research_topic\": \"What is Paxos in Spanner?\"})\n",
    "research_agent_result['output']"
   ]
  },
  {
   "cell_type": "code",
   "execution_count": null,
   "metadata": {},
   "outputs": [],
   "source": []
  },
  {
   "cell_type": "code",
   "execution_count": null,
   "metadata": {},
   "outputs": [],
   "source": []
  },
  {
   "cell_type": "code",
   "execution_count": null,
   "metadata": {},
   "outputs": [
    {
     "data": {
      "text/plain": [
       "[Rect(98.37019348144531, 306.89703369140625, 195.812255859375, 317.1660461425781)]"
      ]
     },
     "execution_count": 79,
     "metadata": {},
     "output_type": "execute_result"
    }
   ],
   "source": []
  },
  {
   "cell_type": "code",
   "execution_count": null,
   "metadata": {},
   "outputs": [],
   "source": []
  }
 ],
 "metadata": {
  "kernelspec": {
   "display_name": "Python 3",
   "language": "python",
   "name": "python3"
  },
  "language_info": {
   "codemirror_mode": {
    "name": "ipython",
    "version": 3
   },
   "file_extension": ".py",
   "mimetype": "text/x-python",
   "name": "python",
   "nbconvert_exporter": "python",
   "pygments_lexer": "ipython3",
   "version": "3.11.8"
  }
 },
 "nbformat": 4,
 "nbformat_minor": 2
}

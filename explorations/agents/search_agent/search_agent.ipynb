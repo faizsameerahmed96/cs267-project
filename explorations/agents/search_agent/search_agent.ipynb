{
 "cells": [
  {
   "cell_type": "markdown",
   "metadata": {},
   "source": [
    "# Agentic Search \n",
    "\n",
    "<p>Start agentic search using Langchain. We will define a agent with the following tools:</p>\n",
    "\n",
    "- Ability to query our Qdrant database \n",
    "  \n",
    "  - Allow it to also make it's own queries and get the best query\n",
    "  \n",
    "- Ability to open our pdf and read a particular page"
   ]
  },
  {
   "cell_type": "code",
   "execution_count": null,
   "metadata": {
    "vscode": {
     "languageId": "plaintext"
    }
   },
   "outputs": [],
   "source": []
  }
 ],
 "metadata": {
  "language_info": {
   "name": "python"
  }
 },
 "nbformat": 4,
 "nbformat_minor": 2
}

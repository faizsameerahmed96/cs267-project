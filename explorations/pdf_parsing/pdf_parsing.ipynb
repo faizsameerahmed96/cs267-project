{
 "cells": [
  {
   "cell_type": "markdown",
   "metadata": {},
   "source": [
    "# Parsing PDFs to extract information\n",
    "\n",
    "We will be using PyMuPDF in order to extract information from research papers. For this exploration, we will be using the MapReduce paper and see how we can extract information."
   ]
  },
  {
   "cell_type": "code",
   "execution_count": 2,
   "metadata": {},
   "outputs": [],
   "source": [
    "import pymupdf"
   ]
  },
  {
   "cell_type": "code",
   "execution_count": 3,
   "metadata": {},
   "outputs": [],
   "source": [
    "pdf_name = '../research_papers/mapreduce.pdf'\n",
    "doc = None\n",
    "doc = pymupdf.open(pdf_name)"
   ]
  },
  {
   "cell_type": "code",
   "execution_count": 4,
   "metadata": {},
   "outputs": [
    {
     "data": {
      "text/html": [
       "MapReduce: Simplified Data Processing \n",
       "on Large Clusters\n",
       "by Jeffrey Dean and Sanjay Ghemawat\n",
       "1 Introduction\n",
       "Prior to our development of MapReduce, the authors and many others\n",
       "at Google implemented hundreds of special-purpose computations that\n",
       "process large amounts of raw data, such as crawled documents, Web\n",
       "request logs, etc., to compute various kinds of derived data, such as\n",
       "inverted indices, various representations of the graph structure of Web\n",
       "documents, summaries of the number of pages crawled per host, and\n",
       "the set of most frequent queries in a given day. Most such computa-\n",
       "tions are conceptually straightforward. However, the input data is usu-\n",
       "ally large and the computations have to be distributed across hundreds\n",
       "or thousands of machines in order to finish in a reasonable amount of\n",
       "time. The issues of how to parallelize the computation, distribute the\n",
       "data, and handle failures conspire to obscure the original simple com-\n",
       "putation with large amounts of complex code to deal with these issues.\n",
       "As a reaction to this complexity, we designed a new abstraction that\n",
       "allows us to express the simple computations we were trying to perform\n",
       "but hides the messy details of parallelization, fault tolerance, data distri-\n",
       "bution and load balancing in a library. Our abstraction is inspired by the\n",
       "map and reduce primitives present in Lisp and many other functional lan-\n",
       "guages. We realized that most of our computations involved applying a\n",
       "map operation to each logical record’ in our input in order to compute a\n",
       "set of intermediate key/value pairs, and then applying a reduce operation\n",
       "to all the values that shared the same key in order to combine the derived\n",
       "data appropriately. Our use of a functional model with user-specified map\n",
       "and reduce operations allows us to parallelize large computations easily\n",
       "and to use reexecution as the primary mechanism for fault tolerance.\n",
       "The major contributions of this work are a simple and powerful\n",
       "interface that enables automatic parallelization and distribution of\n",
       "large-scale computations, combined with an implementation of this\n",
       "interface that achieves high performance on large clusters of com-\n",
       "modity PCs. The programming model can also be used to parallelize\n",
       "computations across multiple cores of the same machine.\n",
       "Section 2 describes the basic programming model and gives several\n",
       "examples. In Sec tion 3, we describe an implementation of the Map Reduce\n",
       "interface tailored towards our cluster-based computing environment.\n",
       "Sec tion 4 describes several refinements of the programming model that\n",
       "we have found useful. Sec tion 5 has performance measurements of our\n",
       "implementation for a variety of tasks. In Section 6, we explore the use of\n",
       "MapReduce within Google including our experiences in using it as the ba-\n",
       "sis for a rewrite of our production indexing system. Section 7 discusses re-\n",
       "lated and future work.\n",
       "2 Programming Model\n",
       "The computation takes a set of input key/value pairs, and produces a\n",
       "set of output key/value pairs. The user of the MapReduce library\n",
       "expresses the computation as two functions: map and reduce.\n",
       "Map, written by the user, takes an input pair and produces a set of\n",
       "intermediate key/value pairs. The MapReduce library groups together\n",
       "all intermediate values associated with the same intermediate key I\n",
       "and passes them to the reduce function.\n",
       "The reduce function, also written by the user, accepts an interme-\n",
       "diate key I and a set of values for that key. It merges these values\n",
       "together to form a possibly smaller set of values. Typically just zero or\n",
       "one output value is produced per reduce invocation. The intermediate\n",
       "values are supplied to the user’s reduce function via an iterator. This\n",
       "allows us to handle lists of values that are too large to fit in memory.\n",
       "2.1 Example\n",
       "Consider the problem of counting the number of occurrences of each\n",
       "word in a large collection of documents. The user would write code\n",
       "similar to the following pseudocode.\n",
       "Abstract\n",
       "M\n",
       "apReduce is a programming model and an associated implementation for processing\n",
       "and generating large datasets that is amenable to a broad variety of real-world tasks.\n",
       "Users specify the computation in terms of a map and a reduce function, and the under-\n",
       "lying runtime system automatically parallelizes the computation across large-scale clusters of\n",
       "machines, handles machine failures, and schedules inter-machine communication to make effi-\n",
       "cient use of the network and disks. Programmers find the system easy to use: more than ten\n",
       "thousand distinct MapReduce programs have been implemented internally at Google over the\n",
       "past four years, and an average of one hundred thousand MapReduce jobs are executed on\n",
       "Google’s clusters every day, processing a total of more than twenty petabytes of data per day.\n",
       "Biographies\n",
       "Jeff Dean (jeff@google.com) is a Google Fellow and is currently work-\n",
       "ing on a large variety of large-scale distributed systems at Google’s Moun -\n",
       "tain View, CA, facility.\n",
       "Sanjay Ghemawat (sanjay@google.com) is a Google Fellow and works\n",
       "on the distributed computing infrastructure used by most the company’s\n",
       "products. He is based at Google’s Mountain View, CA, facility.\n",
       "COMMUNICATIONS OF THE ACM January  2008/Vol. 51, No. 1\n",
       "107\n"
      ],
      "text/plain": [
       "<IPython.core.display.HTML object>"
      ]
     },
     "metadata": {},
     "output_type": "display_data"
    }
   ],
   "source": [
    "from IPython.display import display, HTML\n",
    "display(HTML(doc[0].get_text()))"
   ]
  },
  {
   "cell_type": "code",
   "execution_count": 5,
   "metadata": {},
   "outputs": [
    {
     "name": "stdout",
     "output_type": "stream",
     "text": [
      "[[{'spans': [{'size': 27.658634185791016, 'flags': 4, 'font': 'Christiana-RegularSC', 'color': 2236191, 'ascender': 0.9710000157356262, 'descender': -0.30000001192092896, 'text': 'MapReduce: Simplified Data Processing ', 'origin': (141.493896484375, 81.0), 'bbox': (141.493896484375, 51.869998931884766, 568.6085815429688, 90.0)}], 'wmode': 0, 'dir': (1.0, 0.0), 'bbox': (141.493896484375, 51.869998931884766, 568.6085815429688, 90.0)}], [{'spans': [{'size': 27.658634185791016, 'flags': 4, 'font': 'Christiana-RegularSC', 'color': 2236191, 'ascender': 0.9710000157356262, 'descender': -0.30000001192092896, 'text': 'on Large Clusters', 'origin': (365.6643981933594, 111.0), 'bbox': (365.6643981933594, 81.8699951171875, 561.947998046875, 120.0)}], 'wmode': 0, 'dir': (1.0, 0.0), 'bbox': (365.6643981933594, 81.8699951171875, 561.947998046875, 120.0)}], [{'spans': [{'size': 10.0, 'flags': 20, 'font': 'Christiana-Bold', 'color': 2236191, 'ascender': 0.9810000061988831, 'descender': -0.30799999833106995, 'text': 'by Jeffrey Dean and Sanjay Ghemawat', 'origin': (382.1214904785156, 135.0), 'bbox': (382.1214904785156, 125.19000244140625, 561.99755859375, 138.0800018310547)}], 'wmode': 0, 'dir': (1.0, 0.0), 'bbox': (382.1214904785156, 125.19000244140625, 561.99755859375, 138.0800018310547)}], [{'spans': [{'size': 10.5, 'flags': 20, 'font': 'Christiana-Bold', 'color': 13264423, 'ascender': 0.9810000061988831, 'descender': -0.30799999833106995, 'text': '1 Introduction', 'origin': (39.981201171875, 327.0), 'bbox': (39.981201171875, 316.6994934082031, 114.31910705566406, 330.2340087890625)}], 'wmode': 0, 'dir': (1.0, 0.0), 'bbox': (39.981201171875, 316.6994934082031, 114.31910705566406, 330.2340087890625)}, {'spans': [{'size': 8.977472305297852, 'flags': 4, 'font': 'FairfieldLH-Light', 'color': 2236191, 'ascender': 0.8989999890327454, 'descender': -0.24199999868869781, 'text': 'Prior to our development of MapReduce, the authors and many others', 'origin': (39.981201171875, 339.0), 'bbox': (39.981201171875, 330.90899658203125, 294.96148681640625, 341.1780090332031)}], 'wmode': 0, 'dir': (1.0, 0.0), 'bbox': (39.981201171875, 330.90899658203125, 294.96148681640625, 341.1780090332031)}, {'spans': [{'size': 8.977472305297852, 'flags': 4, 'font': 'FairfieldLH-Light', 'color': 2236191, 'ascender': 0.8989999890327454, 'descender': -0.24199999868869781, 'text': 'at Google implemented hundreds of special-purpose computations that', 'origin': (39.981201171875, 350.99700927734375), 'bbox': (39.981201171875, 342.906005859375, 295.0026550292969, 353.1750183105469)}], 'wmode': 0, 'dir': (1.0, 0.0), 'bbox': (39.981201171875, 342.906005859375, 295.0026550292969, 353.1750183105469)}, {'spans': [{'size': 8.977472305297852, 'flags': 4, 'font': 'FairfieldLH-Light', 'color': 2236191, 'ascender': 0.8989999890327454, 'descender': -0.24199999868869781, 'text': 'process large amounts of raw data, such as crawled documents, Web', 'origin': (39.981201171875, 362.9940185546875), 'bbox': (39.981201171875, 354.90301513671875, 294.9676208496094, 365.1720275878906)}], 'wmode': 0, 'dir': (1.0, 0.0), 'bbox': (39.981201171875, 354.90301513671875, 294.9676208496094, 365.1720275878906)}, {'spans': [{'size': 8.977472305297852, 'flags': 4, 'font': 'FairfieldLH-Light', 'color': 2236191, 'ascender': 0.8989999890327454, 'descender': -0.24199999868869781, 'text': 'request logs, etc., to compute various kinds of derived data, such as', 'origin': (39.981201171875, 374.99102783203125), 'bbox': (39.981201171875, 366.9000244140625, 294.9794006347656, 377.1690368652344)}], 'wmode': 0, 'dir': (1.0, 0.0), 'bbox': (39.981201171875, 366.9000244140625, 294.9794006347656, 377.1690368652344)}, {'spans': [{'size': 8.977472305297852, 'flags': 4, 'font': 'FairfieldLH-Light', 'color': 2236191, 'ascender': 0.8989999890327454, 'descender': -0.24199999868869781, 'text': 'inverted indices, various representations of the graph structure of Web', 'origin': (39.981201171875, 386.988037109375), 'bbox': (39.981201171875, 378.89703369140625, 294.96063232421875, 389.1660461425781)}], 'wmode': 0, 'dir': (1.0, 0.0), 'bbox': (39.981201171875, 378.89703369140625, 294.96063232421875, 389.1660461425781)}, {'spans': [{'size': 8.977472305297852, 'flags': 4, 'font': 'FairfieldLH-Light', 'color': 2236191, 'ascender': 0.8989999890327454, 'descender': -0.24199999868869781, 'text': 'documents, summaries of the number of pages crawled per host, and', 'origin': (39.981201171875, 398.98504638671875), 'bbox': (39.981201171875, 390.89404296875, 294.95880126953125, 401.1630554199219)}], 'wmode': 0, 'dir': (1.0, 0.0), 'bbox': (39.981201171875, 390.89404296875, 294.95880126953125, 401.1630554199219)}, {'spans': [{'size': 8.977472305297852, 'flags': 4, 'font': 'FairfieldLH-Light', 'color': 2236191, 'ascender': 0.8989999890327454, 'descender': -0.24199999868869781, 'text': 'the set of most frequent queries in a given day. Most such computa-', 'origin': (39.981201171875, 410.9820556640625), 'bbox': (39.981201171875, 402.89105224609375, 294.9820556640625, 413.1600646972656)}], 'wmode': 0, 'dir': (1.0, 0.0), 'bbox': (39.981201171875, 402.89105224609375, 294.9820556640625, 413.1600646972656)}, {'spans': [{'size': 8.977472305297852, 'flags': 4, 'font': 'FairfieldLH-Light', 'color': 2236191, 'ascender': 0.8989999890327454, 'descender': -0.24199999868869781, 'text': 'tions are conceptually straightforward. However, the input data is usu-', 'origin': (39.981201171875, 422.97906494140625), 'bbox': (39.981201171875, 414.8880615234375, 294.9570617675781, 425.1570739746094)}], 'wmode': 0, 'dir': (1.0, 0.0), 'bbox': (39.981201171875, 414.8880615234375, 294.9570617675781, 425.1570739746094)}, {'spans': [{'size': 8.977472305297852, 'flags': 4, 'font': 'FairfieldLH-Light', 'color': 2236191, 'ascender': 0.8989999890327454, 'descender': -0.24199999868869781, 'text': 'ally large and the computations have to be distributed across hundreds', 'origin': (39.981201171875, 434.97607421875), 'bbox': (39.981201171875, 426.88507080078125, 294.9632568359375, 437.1540832519531)}], 'wmode': 0, 'dir': (1.0, 0.0), 'bbox': (39.981201171875, 426.88507080078125, 294.9632568359375, 437.1540832519531)}, {'spans': [{'size': 8.977472305297852, 'flags': 4, 'font': 'FairfieldLH-Light', 'color': 2236191, 'ascender': 0.8989999890327454, 'descender': -0.24199999868869781, 'text': 'or thousands of machines in order to finish in a reasonable amount of', 'origin': (39.981201171875, 446.97308349609375), 'bbox': (39.981201171875, 438.882080078125, 294.9533996582031, 449.1510925292969)}], 'wmode': 0, 'dir': (1.0, 0.0), 'bbox': (39.981201171875, 438.882080078125, 294.9533996582031, 449.1510925292969)}, {'spans': [{'size': 8.977472305297852, 'flags': 4, 'font': 'FairfieldLH-Light', 'color': 2236191, 'ascender': 0.8989999890327454, 'descender': -0.24199999868869781, 'text': 'time. The issues of how to parallelize the computation, distribute the', 'origin': (39.981201171875, 458.9700927734375), 'bbox': (39.981201171875, 450.87908935546875, 294.94537353515625, 461.1481018066406)}], 'wmode': 0, 'dir': (1.0, 0.0), 'bbox': (39.981201171875, 450.87908935546875, 294.94537353515625, 461.1481018066406)}, {'spans': [{'size': 8.977472305297852, 'flags': 4, 'font': 'FairfieldLH-Light', 'color': 2236191, 'ascender': 0.8989999890327454, 'descender': -0.24199999868869781, 'text': 'data, and handle failures conspire to obscure the original simple com-', 'origin': (39.981201171875, 470.96710205078125), 'bbox': (39.981201171875, 462.8760986328125, 294.9632873535156, 473.1451110839844)}], 'wmode': 0, 'dir': (1.0, 0.0), 'bbox': (39.981201171875, 462.8760986328125, 294.9632873535156, 473.1451110839844)}, {'spans': [{'size': 8.977472305297852, 'flags': 4, 'font': 'FairfieldLH-Light', 'color': 2236191, 'ascender': 0.8989999890327454, 'descender': -0.24199999868869781, 'text': 'putation with large amounts of complex code to deal with these issues.', 'origin': (39.981201171875, 482.964111328125), 'bbox': (39.981201171875, 474.87310791015625, 294.9417724609375, 485.1421203613281)}], 'wmode': 0, 'dir': (1.0, 0.0), 'bbox': (39.981201171875, 474.87310791015625, 294.9417724609375, 485.1421203613281)}], [{'spans': [{'size': 8.954887390136719, 'flags': 4, 'font': 'FairfieldLH-Light', 'color': 2236191, 'ascender': 0.8989999890327454, 'descender': -0.24199999868869781, 'text': 'As a reaction to this complexity, we designed a new abstraction that', 'origin': (51.981201171875, 495.0), 'bbox': (51.981201171875, 486.90899658203125, 294.97918701171875, 497.1780090332031)}], 'wmode': 0, 'dir': (1.0, 0.0), 'bbox': (51.981201171875, 486.90899658203125, 294.97918701171875, 497.1780090332031)}], [{'spans': [{'size': 8.954887390136719, 'flags': 4, 'font': 'FairfieldLH-Light', 'color': 2236191, 'ascender': 0.8989999890327454, 'descender': -0.24199999868869781, 'text': 'allows us to express the simple computations we were trying to perform', 'origin': (39.97943115234375, 506.99700927734375), 'bbox': (39.97943115234375, 498.906005859375, 294.97564697265625, 509.1750183105469)}], 'wmode': 0, 'dir': (1.0, 0.0), 'bbox': (39.97943115234375, 498.906005859375, 294.97564697265625, 509.1750183105469)}, {'spans': [{'size': 8.954887390136719, 'flags': 4, 'font': 'FairfieldLH-Light', 'color': 2236191, 'ascender': 0.8989999890327454, 'descender': -0.24199999868869781, 'text': 'but hides the messy details of parallelization, fault tolerance, data distri-', 'origin': (39.97943115234375, 518.9940185546875), 'bbox': (39.97943115234375, 510.90301513671875, 294.9837646484375, 521.1719970703125)}], 'wmode': 0, 'dir': (1.0, 0.0), 'bbox': (39.97943115234375, 510.90301513671875, 294.9837646484375, 521.1719970703125)}, {'spans': [{'size': 8.954887390136719, 'flags': 4, 'font': 'FairfieldLH-Light', 'color': 2236191, 'ascender': 0.8989999890327454, 'descender': -0.24199999868869781, 'text': 'bution and load balancing in a library. Our abstraction is inspired by the', 'origin': (39.97943115234375, 530.9910278320312), 'bbox': (39.97943115234375, 522.9000244140625, 294.9988708496094, 533.1690063476562)}], 'wmode': 0, 'dir': (1.0, 0.0), 'bbox': (39.97943115234375, 522.9000244140625, 294.9988708496094, 533.1690063476562)}, {'spans': [{'size': 8.954887390136719, 'flags': 6, 'font': 'FairfieldLH-LightItalic', 'color': 2236191, 'ascender': 0.8980000019073486, 'descender': -0.25600001215934753, 'text': 'map', 'origin': (39.97943115234375, 542.988037109375), 'bbox': (39.97943115234375, 534.9060668945312, 54.92328643798828, 545.2920532226562)}, {'size': 8.954887390136719, 'flags': 4, 'font': 'FairfieldLH-Light', 'color': 2236191, 'ascender': 0.8989999890327454, 'descender': -0.24199999868869781, 'text': ' and ', 'origin': (54.92328643798828, 542.988037109375), 'bbox': (54.92328643798828, 534.8970336914062, 72.12315368652344, 545.166015625)}, {'size': 8.954887390136719, 'flags': 6, 'font': 'FairfieldLH-LightItalic', 'color': 2236191, 'ascender': 0.8980000019073486, 'descender': -0.25600001215934753, 'text': 'reduce', 'origin': (71.79704284667969, 542.988037109375), 'bbox': (71.79704284667969, 534.9060668945312, 94.31261444091797, 545.2920532226562)}, {'size': 8.954887390136719, 'flags': 4, 'font': 'FairfieldLH-Light', 'color': 2236191, 'ascender': 0.8989999890327454, 'descender': -0.24199999868869781, 'text': ' primitives present in Lisp and many other functional lan-', 'origin': (94.31261444091797, 542.988037109375), 'bbox': (94.31261444091797, 534.8970336914062, 294.97113037109375, 545.166015625)}], 'wmode': 0, 'dir': (1.0, 0.0), 'bbox': (39.97943115234375, 534.8970336914062, 294.97113037109375, 545.2920532226562)}, {'spans': [{'size': 8.954887390136719, 'flags': 4, 'font': 'FairfieldLH-Light', 'color': 2236191, 'ascender': 0.8989999890327454, 'descender': -0.24199999868869781, 'text': 'guages. We realized that most of our computations involved applying a', 'origin': (39.979434967041016, 554.9850463867188), 'bbox': (39.979434967041016, 546.89404296875, 294.9623107910156, 557.1630249023438)}], 'wmode': 0, 'dir': (1.0, 0.0), 'bbox': (39.979434967041016, 546.89404296875, 294.9623107910156, 557.1630249023438)}, {'spans': [{'size': 8.954887390136719, 'flags': 4, 'font': 'FairfieldLH-Light', 'color': 2236191, 'ascender': 0.8989999890327454, 'descender': -0.24199999868869781, 'text': 'map operation to each logical record’ in our input in order to compute a', 'origin': (39.979434967041016, 566.9820556640625), 'bbox': (39.979434967041016, 558.8910522460938, 294.9792175292969, 569.1600341796875)}], 'wmode': 0, 'dir': (1.0, 0.0), 'bbox': (39.979434967041016, 558.8910522460938, 294.9792175292969, 569.1600341796875)}, {'spans': [{'size': 8.954887390136719, 'flags': 4, 'font': 'FairfieldLH-Light', 'color': 2236191, 'ascender': 0.8989999890327454, 'descender': -0.24199999868869781, 'text': 'set of intermediate key/value pairs, and then applying a reduce operation', 'origin': (39.979434967041016, 578.97900390625), 'bbox': (39.979434967041016, 570.8880004882812, 294.9926452636719, 581.156982421875)}], 'wmode': 0, 'dir': (1.0, 0.0), 'bbox': (39.979434967041016, 570.8880004882812, 294.9926452636719, 581.156982421875)}, {'spans': [{'size': 8.954887390136719, 'flags': 4, 'font': 'FairfieldLH-Light', 'color': 2236191, 'ascender': 0.8989999890327454, 'descender': -0.24199999868869781, 'text': 'to all the values that shared the same key in order to combine the derived', 'origin': (39.979434967041016, 590.9760131835938), 'bbox': (39.979434967041016, 582.885009765625, 294.9729309082031, 593.1539916992188)}], 'wmode': 0, 'dir': (1.0, 0.0), 'bbox': (39.979434967041016, 582.885009765625, 294.9729309082031, 593.1539916992188)}, {'spans': [{'size': 8.954887390136719, 'flags': 4, 'font': 'FairfieldLH-Light', 'color': 2236191, 'ascender': 0.8989999890327454, 'descender': -0.24199999868869781, 'text': 'data appropriately. Our use of a functional model with user-specified map', 'origin': (39.979434967041016, 602.9730224609375), 'bbox': (39.979434967041016, 594.8820190429688, 294.97650146484375, 605.1510009765625)}], 'wmode': 0, 'dir': (1.0, 0.0), 'bbox': (39.979434967041016, 594.8820190429688, 294.97650146484375, 605.1510009765625)}, {'spans': [{'size': 8.954887390136719, 'flags': 4, 'font': 'FairfieldLH-Light', 'color': 2236191, 'ascender': 0.8989999890327454, 'descender': -0.24199999868869781, 'text': 'and reduce operations allows us to parallelize large computations easily', 'origin': (39.979434967041016, 614.969970703125), 'bbox': (39.979434967041016, 606.8789672851562, 294.9872741699219, 617.14794921875)}], 'wmode': 0, 'dir': (1.0, 0.0), 'bbox': (39.979434967041016, 606.8789672851562, 294.9872741699219, 617.14794921875)}, {'spans': [{'size': 8.954887390136719, 'flags': 4, 'font': 'FairfieldLH-Light', 'color': 2236191, 'ascender': 0.8989999890327454, 'descender': -0.24199999868869781, 'text': 'and to use reexecution as the primary mechanism for fault tolerance.', 'origin': (39.979434967041016, 626.9669799804688), 'bbox': (39.979434967041016, 618.8759765625, 283.9308166503906, 629.1449584960938)}], 'wmode': 0, 'dir': (1.0, 0.0), 'bbox': (39.979434967041016, 618.8759765625, 283.9308166503906, 629.1449584960938)}], [{'spans': [{'size': 9.0, 'flags': 4, 'font': 'FairfieldLH-Light', 'color': 2236191, 'ascender': 0.8989999890327454, 'descender': -0.24199999868869781, 'text': 'The major contributions of this work are a simple and powerful', 'origin': (318.981201171875, 327.0), 'bbox': (318.981201171875, 318.90899658203125, 561.9969482421875, 329.1780090332031)}], 'wmode': 0, 'dir': (1.0, 0.0), 'bbox': (318.981201171875, 318.90899658203125, 561.9969482421875, 329.1780090332031)}], [{'spans': [{'size': 9.0, 'flags': 4, 'font': 'FairfieldLH-Light', 'color': 2236191, 'ascender': 0.8989999890327454, 'descender': -0.24199999868869781, 'text': 'interface that enables automatic parallelization and distribution of', 'origin': (306.98419189453125, 338.99700927734375), 'bbox': (306.98419189453125, 330.906005859375, 561.9857788085938, 341.1750183105469)}], 'wmode': 0, 'dir': (1.0, 0.0), 'bbox': (306.98419189453125, 330.906005859375, 561.9857788085938, 341.1750183105469)}, {'spans': [{'size': 9.0, 'flags': 4, 'font': 'FairfieldLH-Light', 'color': 2236191, 'ascender': 0.8989999890327454, 'descender': -0.24199999868869781, 'text': 'large-scale computations, combined with an implementation of this', 'origin': (306.98419189453125, 350.9940185546875), 'bbox': (306.98419189453125, 342.90301513671875, 561.9824829101562, 353.1720275878906)}], 'wmode': 0, 'dir': (1.0, 0.0), 'bbox': (306.98419189453125, 342.90301513671875, 561.9824829101562, 353.1720275878906)}, {'spans': [{'size': 9.0, 'flags': 4, 'font': 'FairfieldLH-Light', 'color': 2236191, 'ascender': 0.8989999890327454, 'descender': -0.24199999868869781, 'text': 'interface that achieves high performance on large clusters of com-', 'origin': (306.98419189453125, 362.99102783203125), 'bbox': (306.98419189453125, 354.9000244140625, 561.9801635742188, 365.1690368652344)}], 'wmode': 0, 'dir': (1.0, 0.0), 'bbox': (306.98419189453125, 354.9000244140625, 561.9801635742188, 365.1690368652344)}, {'spans': [{'size': 9.0, 'flags': 4, 'font': 'FairfieldLH-Light', 'color': 2236191, 'ascender': 0.8989999890327454, 'descender': -0.24199999868869781, 'text': 'modity PCs. The programming model can also be used to parallelize', 'origin': (306.98419189453125, 374.988037109375), 'bbox': (306.98419189453125, 366.89703369140625, 561.9795532226562, 377.1660461425781)}], 'wmode': 0, 'dir': (1.0, 0.0), 'bbox': (306.98419189453125, 366.89703369140625, 561.9795532226562, 377.1660461425781)}, {'spans': [{'size': 9.0, 'flags': 4, 'font': 'FairfieldLH-Light', 'color': 2236191, 'ascender': 0.8989999890327454, 'descender': -0.24199999868869781, 'text': 'computations across multiple cores of the same machine.', 'origin': (306.98419189453125, 386.98504638671875), 'bbox': (306.98419189453125, 378.89404296875, 517.8469848632812, 389.1630554199219)}], 'wmode': 0, 'dir': (1.0, 0.0), 'bbox': (306.98419189453125, 378.89404296875, 517.8469848632812, 389.1630554199219)}], [{'spans': [{'size': 8.954887390136719, 'flags': 4, 'font': 'FairfieldLH-Light', 'color': 2236191, 'ascender': 0.8989999890327454, 'descender': -0.24199999868869781, 'text': 'Section 2 describes the basic programming model and gives several', 'origin': (318.981201171875, 399.0), 'bbox': (318.981201171875, 390.90899658203125, 561.98828125, 401.1780090332031)}], 'wmode': 0, 'dir': (1.0, 0.0), 'bbox': (318.981201171875, 390.90899658203125, 561.98828125, 401.1780090332031)}], [{'spans': [{'size': 8.954887390136719, 'flags': 4, 'font': 'FairfieldLH-Light', 'color': 2236191, 'ascender': 0.8989999890327454, 'descender': -0.24199999868869781, 'text': 'examples. In Sec tion 3, we describe an implementation of the Map Reduce', 'origin': (306.97943115234375, 410.99700927734375), 'bbox': (306.97943115234375, 402.906005859375, 561.9746704101562, 413.1750183105469)}], 'wmode': 0, 'dir': (1.0, 0.0), 'bbox': (306.97943115234375, 402.906005859375, 561.9746704101562, 413.1750183105469)}, {'spans': [{'size': 8.954887390136719, 'flags': 4, 'font': 'FairfieldLH-Light', 'color': 2236191, 'ascender': 0.8989999890327454, 'descender': -0.24199999868869781, 'text': 'interface tailored towards our cluster-based computing environment.', 'origin': (306.97052001953125, 422.9940185546875), 'bbox': (306.97052001953125, 414.90301513671875, 561.9459838867188, 425.1720275878906)}], 'wmode': 0, 'dir': (1.0, 0.0), 'bbox': (306.97052001953125, 414.90301513671875, 561.9459838867188, 425.1720275878906)}, {'spans': [{'size': 8.954887390136719, 'flags': 4, 'font': 'FairfieldLH-Light', 'color': 2236191, 'ascender': 0.8989999890327454, 'descender': -0.24199999868869781, 'text': 'Sec tion 4 describes several refinements of the programming model that', 'origin': (306.97052001953125, 434.99102783203125), 'bbox': (306.97052001953125, 426.9000244140625, 561.9749145507812, 437.1690368652344)}], 'wmode': 0, 'dir': (1.0, 0.0), 'bbox': (306.97052001953125, 426.9000244140625, 561.9749145507812, 437.1690368652344)}, {'spans': [{'size': 8.954887390136719, 'flags': 4, 'font': 'FairfieldLH-Light', 'color': 2236191, 'ascender': 0.8989999890327454, 'descender': -0.24199999868869781, 'text': 'we have found useful. Sec tion 5 has performance measurements of our', 'origin': (306.97052001953125, 446.988037109375), 'bbox': (306.97052001953125, 438.89703369140625, 561.9703979492188, 449.1660461425781)}], 'wmode': 0, 'dir': (1.0, 0.0), 'bbox': (306.97052001953125, 438.89703369140625, 561.9703979492188, 449.1660461425781)}, {'spans': [{'size': 8.954887390136719, 'flags': 4, 'font': 'FairfieldLH-Light', 'color': 2236191, 'ascender': 0.8989999890327454, 'descender': -0.24199999868869781, 'text': 'implementation for a variety of tasks. In Section 6, we explore the use of', 'origin': (306.97052001953125, 458.98504638671875), 'bbox': (306.97052001953125, 450.89404296875, 561.978515625, 461.1630554199219)}], 'wmode': 0, 'dir': (1.0, 0.0), 'bbox': (306.97052001953125, 450.89404296875, 561.978515625, 461.1630554199219)}, {'spans': [{'size': 8.954887390136719, 'flags': 4, 'font': 'FairfieldLH-Light', 'color': 2236191, 'ascender': 0.8989999890327454, 'descender': -0.24199999868869781, 'text': 'MapReduce within Google including our experiences in using it as the ba-', 'origin': (306.97052001953125, 470.9820556640625), 'bbox': (306.97052001953125, 462.89105224609375, 561.9674682617188, 473.1600646972656)}], 'wmode': 0, 'dir': (1.0, 0.0), 'bbox': (306.97052001953125, 462.89105224609375, 561.9674682617188, 473.1600646972656)}, {'spans': [{'size': 8.954887390136719, 'flags': 4, 'font': 'FairfieldLH-Light', 'color': 2236191, 'ascender': 0.8989999890327454, 'descender': -0.24199999868869781, 'text': 'sis for a rewrite of our production indexing system. Section 7 discusses re-', 'origin': (306.97052001953125, 482.97906494140625), 'bbox': (306.97052001953125, 474.8880615234375, 561.9968872070312, 485.1570739746094)}], 'wmode': 0, 'dir': (1.0, 0.0), 'bbox': (306.97052001953125, 474.8880615234375, 561.9968872070312, 485.1570739746094)}, {'spans': [{'size': 8.954887390136719, 'flags': 4, 'font': 'FairfieldLH-Light', 'color': 2236191, 'ascender': 0.8989999890327454, 'descender': -0.24199999868869781, 'text': 'lated and future work.', 'origin': (306.97052001953125, 494.97607421875), 'bbox': (306.97052001953125, 486.88507080078125, 385.8222961425781, 497.1540832519531)}], 'wmode': 0, 'dir': (1.0, 0.0), 'bbox': (306.97052001953125, 486.88507080078125, 385.8222961425781, 497.1540832519531)}], [{'spans': [{'size': 10.5, 'flags': 20, 'font': 'Christiana-Bold', 'color': 13264423, 'ascender': 0.9810000061988831, 'descender': -0.30799999833106995, 'text': '2 Programming Model', 'origin': (306.981201171875, 519.0), 'bbox': (306.981201171875, 508.6994934082031, 421.9342346191406, 522.2340087890625)}], 'wmode': 0, 'dir': (1.0, 0.0), 'bbox': (306.981201171875, 508.6994934082031, 421.9342346191406, 522.2340087890625)}, {'spans': [{'size': 9.0, 'flags': 4, 'font': 'FairfieldLH-Light', 'color': 2236191, 'ascender': 0.8989999890327454, 'descender': -0.24199999868869781, 'text': 'The computation takes a set of ', 'origin': (306.981201171875, 531.0), 'bbox': (306.981201171875, 522.9089965820312, 424.1341552734375, 533.177978515625)}, {'size': 9.0, 'flags': 6, 'font': 'FairfieldLH-LightItalic', 'color': 2236191, 'ascender': 0.8980000019073486, 'descender': -0.25600001215934753, 'text': 'input', 'origin': (424.50946044921875, 531.0), 'bbox': (424.50946044921875, 522.9180297851562, 443.8378601074219, 533.3040161132812)}, {'size': 9.0, 'flags': 4, 'font': 'FairfieldLH-Light', 'color': 2236191, 'ascender': 0.8989999890327454, 'descender': -0.24199999868869781, 'text': ' key/value pairs, and produces a', 'origin': (443.8378601074219, 531.0), 'bbox': (443.8378601074219, 522.9089965820312, 561.9745483398438, 533.177978515625)}], 'wmode': 0, 'dir': (1.0, 0.0), 'bbox': (306.981201171875, 522.9089965820312, 561.9745483398438, 533.3040161132812)}, {'spans': [{'size': 9.0, 'flags': 4, 'font': 'FairfieldLH-Light', 'color': 2236191, 'ascender': 0.8989999890327454, 'descender': -0.24199999868869781, 'text': 'set of ', 'origin': (306.981201171875, 542.9970092773438), 'bbox': (306.981201171875, 534.906005859375, 331.20111083984375, 545.1749877929688)}, {'size': 9.0, 'flags': 6, 'font': 'FairfieldLH-LightItalic', 'color': 2236191, 'ascender': 0.8980000019073486, 'descender': -0.25600001215934753, 'text': 'output', 'origin': (331.926513671875, 542.9970092773438), 'bbox': (331.926513671875, 534.9150390625, 356.5820007324219, 545.301025390625)}, {'size': 9.0, 'flags': 4, 'font': 'FairfieldLH-Light', 'color': 2236191, 'ascender': 0.8989999890327454, 'descender': -0.24199999868869781, 'text': ' key/value pairs. The user of the MapReduce library', 'origin': (356.5820007324219, 542.9970092773438), 'bbox': (356.5820007324219, 534.906005859375, 562.0293579101562, 545.1749877929688)}], 'wmode': 0, 'dir': (1.0, 0.0), 'bbox': (306.981201171875, 534.906005859375, 562.0293579101562, 545.301025390625)}, {'spans': [{'size': 9.0, 'flags': 4, 'font': 'FairfieldLH-Light', 'color': 2236191, 'ascender': 0.8989999890327454, 'descender': -0.24199999868869781, 'text': 'expresses the computation as two functions: map and reduce.', 'origin': (306.981201171875, 554.9940185546875), 'bbox': (306.981201171875, 546.9030151367188, 533.3095703125, 557.1719970703125)}], 'wmode': 0, 'dir': (1.0, 0.0), 'bbox': (306.981201171875, 546.9030151367188, 533.3095703125, 557.1719970703125)}], [{'spans': [{'size': 9.0, 'flags': 4, 'font': 'FairfieldLH-Light', 'color': 2236191, 'ascender': 0.8989999890327454, 'descender': -0.24199999868869781, 'text': 'Map, written by the user, takes an input pair and produces a set of', 'origin': (318.97821044921875, 566.990966796875), 'bbox': (318.97821044921875, 558.8999633789062, 562.0009155273438, 569.1689453125)}], 'wmode': 0, 'dir': (1.0, 0.0), 'bbox': (318.97821044921875, 558.8999633789062, 562.0009155273438, 569.1689453125)}], [{'spans': [{'size': 9.0, 'flags': 6, 'font': 'FairfieldLH-LightItalic', 'color': 2236191, 'ascender': 0.8980000019073486, 'descender': -0.25600001215934753, 'text': 'intermediate', 'origin': (306.981201171875, 578.9879760742188), 'bbox': (306.981201171875, 570.906005859375, 351.27825927734375, 581.2919921875)}, {'size': 9.0, 'flags': 4, 'font': 'FairfieldLH-Light', 'color': 2236191, 'ascender': 0.8989999890327454, 'descender': -0.24199999868869781, 'text': ' key/value pairs. The MapReduce library groups together', 'origin': (351.27825927734375, 578.9879760742188), 'bbox': (351.27825927734375, 570.89697265625, 562.0025634765625, 581.1659545898438)}], 'wmode': 0, 'dir': (1.0, 0.0), 'bbox': (306.981201171875, 570.89697265625, 562.0025634765625, 581.2919921875)}, {'spans': [{'size': 9.0, 'flags': 4, 'font': 'FairfieldLH-Light', 'color': 2236191, 'ascender': 0.8989999890327454, 'descender': -0.24199999868869781, 'text': 'all intermediate values associated with the same intermediate key ', 'origin': (306.981201171875, 590.9849853515625), 'bbox': (306.981201171875, 582.8939819335938, 558.3851318359375, 593.1629638671875)}, {'size': 9.0, 'flags': 6, 'font': 'FairfieldLH-LightItalic', 'color': 2236191, 'ascender': 0.8980000019073486, 'descender': -0.25600001215934753, 'text': 'I', 'origin': (558.990234375, 590.9849853515625), 'bbox': (558.990234375, 582.9030151367188, 561.9872436523438, 593.2890014648438)}], 'wmode': 0, 'dir': (1.0, 0.0), 'bbox': (306.981201171875, 582.8939819335938, 561.9872436523438, 593.2890014648438)}, {'spans': [{'size': 9.0, 'flags': 4, 'font': 'FairfieldLH-Light', 'color': 2236191, 'ascender': 0.8989999890327454, 'descender': -0.24199999868869781, 'text': 'and passes them to the reduce function.', 'origin': (306.9812316894531, 602.9819946289062), 'bbox': (306.9812316894531, 594.8909912109375, 454.78826904296875, 605.1599731445312)}], 'wmode': 0, 'dir': (1.0, 0.0), 'bbox': (306.9812316894531, 594.8909912109375, 454.78826904296875, 605.1599731445312)}], [{'spans': [{'size': 9.0, 'flags': 4, 'font': 'FairfieldLH-Light', 'color': 2236191, 'ascender': 0.8989999890327454, 'descender': -0.24199999868869781, 'text': 'The reduce function, also written by the user, accepts an interme-', 'origin': (318.9782409667969, 614.97900390625), 'bbox': (318.9782409667969, 606.8880004882812, 561.9917602539062, 617.156982421875)}], 'wmode': 0, 'dir': (1.0, 0.0), 'bbox': (318.9782409667969, 606.8880004882812, 561.9917602539062, 617.156982421875)}], [{'spans': [{'size': 9.0, 'flags': 4, 'font': 'FairfieldLH-Light', 'color': 2236191, 'ascender': 0.8989999890327454, 'descender': -0.24199999868869781, 'text': 'diate key ', 'origin': (306.9812316894531, 626.9759521484375), 'bbox': (306.9812316894531, 618.8849487304688, 344.152099609375, 629.1539306640625)}, {'size': 9.0, 'flags': 6, 'font': 'FairfieldLH-LightItalic', 'color': 2236191, 'ascender': 0.8980000019073486, 'descender': -0.25600001215934753, 'text': 'I', 'origin': (344.73260498046875, 626.9759521484375), 'bbox': (344.73260498046875, 618.8939819335938, 347.7296142578125, 629.2799682617188)}, {'size': 9.0, 'flags': 4, 'font': 'FairfieldLH-Light', 'color': 2236191, 'ascender': 0.8989999890327454, 'descender': -0.24199999868869781, 'text': ' and a set of values for that key. It merges these values', 'origin': (347.7296142578125, 626.9759521484375), 'bbox': (347.7296142578125, 618.8849487304688, 561.962890625, 629.1539306640625)}], 'wmode': 0, 'dir': (1.0, 0.0), 'bbox': (306.9812316894531, 618.8849487304688, 561.962890625, 629.2799682617188)}, {'spans': [{'size': 9.0, 'flags': 4, 'font': 'FairfieldLH-Light', 'color': 2236191, 'ascender': 0.8989999890327454, 'descender': -0.24199999868869781, 'text': 'together to form a possibly smaller set of values. Typically just zero or', 'origin': (306.9812316894531, 638.9729614257812), 'bbox': (306.9812316894531, 630.8819580078125, 561.998046875, 641.1509399414062)}], 'wmode': 0, 'dir': (1.0, 0.0), 'bbox': (306.9812316894531, 630.8819580078125, 561.998046875, 641.1509399414062)}, {'spans': [{'size': 9.0, 'flags': 4, 'font': 'FairfieldLH-Light', 'color': 2236191, 'ascender': 0.8989999890327454, 'descender': -0.24199999868869781, 'text': 'one output value is produced per reduce invocation. The intermediate', 'origin': (306.9812316894531, 650.969970703125), 'bbox': (306.9812316894531, 642.8789672851562, 562.006103515625, 653.14794921875)}], 'wmode': 0, 'dir': (1.0, 0.0), 'bbox': (306.9812316894531, 642.8789672851562, 562.006103515625, 653.14794921875)}, {'spans': [{'size': 9.0, 'flags': 4, 'font': 'FairfieldLH-Light', 'color': 2236191, 'ascender': 0.8989999890327454, 'descender': -0.24199999868869781, 'text': 'values are supplied to the user’s reduce function via an iterator. This', 'origin': (306.9812316894531, 662.9669189453125), 'bbox': (306.9812316894531, 654.8759155273438, 561.9988403320312, 665.1448974609375)}], 'wmode': 0, 'dir': (1.0, 0.0), 'bbox': (306.9812316894531, 654.8759155273438, 561.9988403320312, 665.1448974609375)}, {'spans': [{'size': 9.0, 'flags': 4, 'font': 'FairfieldLH-Light', 'color': 2236191, 'ascender': 0.8989999890327454, 'descender': -0.24199999868869781, 'text': 'allows us to handle lists of values that are too large to fit in memory.', 'origin': (306.9812316894531, 674.9639282226562), 'bbox': (306.9812316894531, 666.8729248046875, 556.426025390625, 677.1419067382812)}], 'wmode': 0, 'dir': (1.0, 0.0), 'bbox': (306.9812316894531, 666.8729248046875, 556.426025390625, 677.1419067382812)}], [{'spans': [{'size': 10.5, 'flags': 20, 'font': 'Christiana-Bold', 'color': 13264423, 'ascender': 0.9810000061988831, 'descender': -0.30799999833106995, 'text': '2.1 Example', 'origin': (306.981201171875, 699.0), 'bbox': (306.981201171875, 688.6995239257812, 367.5672607421875, 702.2340087890625)}], 'wmode': 0, 'dir': (1.0, 0.0), 'bbox': (306.981201171875, 688.6995239257812, 367.5672607421875, 702.2340087890625)}, {'spans': [{'size': 9.0, 'flags': 4, 'font': 'FairfieldLH-Light', 'color': 2236191, 'ascender': 0.8989999890327454, 'descender': -0.24199999868869781, 'text': 'Consider the problem of counting the number of occurrences of each', 'origin': (306.981201171875, 711.0), 'bbox': (306.981201171875, 702.9089965820312, 561.9916381835938, 713.177978515625)}], 'wmode': 0, 'dir': (1.0, 0.0), 'bbox': (306.981201171875, 702.9089965820312, 561.9916381835938, 713.177978515625)}, {'spans': [{'size': 9.0, 'flags': 4, 'font': 'FairfieldLH-Light', 'color': 2236191, 'ascender': 0.8989999890327454, 'descender': -0.24199999868869781, 'text': 'word in a large collection of documents. The user would write code', 'origin': (306.981201171875, 722.9970092773438), 'bbox': (306.981201171875, 714.906005859375, 561.9735717773438, 725.1749877929688)}], 'wmode': 0, 'dir': (1.0, 0.0), 'bbox': (306.981201171875, 714.906005859375, 561.9735717773438, 725.1749877929688)}, {'spans': [{'size': 9.0, 'flags': 4, 'font': 'FairfieldLH-Light', 'color': 2236191, 'ascender': 0.8989999890327454, 'descender': -0.24199999868869781, 'text': 'similar to the following pseudocode.', 'origin': (306.981201171875, 734.9940185546875), 'bbox': (306.981201171875, 726.9030151367188, 439.7015380859375, 737.1719970703125)}], 'wmode': 0, 'dir': (1.0, 0.0), 'bbox': (306.981201171875, 726.9030151367188, 439.7015380859375, 737.1719970703125)}], [{'spans': [{'size': 13.5, 'flags': 20, 'font': 'Christiana-Bold', 'color': 13264423, 'ascender': 0.9810000061988831, 'descender': -0.30799999833106995, 'text': 'Abstract', 'origin': (39.981201171875, 158.961181640625), 'bbox': (39.981201171875, 145.71768188476562, 92.26264953613281, 163.1191864013672)}], 'wmode': 0, 'dir': (1.0, 0.0), 'bbox': (39.981201171875, 145.71768188476562, 92.26264953613281, 163.1191864013672)}], [{'spans': [{'size': 59.63199996948242, 'flags': 4, 'font': 'Christiana-Regular', 'color': 13264423, 'ascender': 0.9710000157356262, 'descender': -0.30000001192092896, 'text': 'M', 'origin': (37.71900177001953, 206.961181640625), 'bbox': (37.71900177001953, 149.05850219726562, 92.40154266357422, 224.8507843017578)}], 'wmode': 0, 'dir': (1.0, 0.0), 'bbox': (37.71900177001953, 149.05850219726562, 92.40154266357422, 224.8507843017578)}], [{'spans': [{'size': 13.5, 'flags': 4, 'font': 'FairfieldLH-Light', 'color': 2236191, 'ascender': 0.8989999890327454, 'descender': -0.24199999868869781, 'text': 'apReduce is a programming model and an associated implementation for processing', 'origin': (92.356201171875, 174.961181640625), 'bbox': (92.356201171875, 162.82467651367188, 562.010498046875, 178.22817993164062)}], 'wmode': 0, 'dir': (1.0, 0.0), 'bbox': (92.356201171875, 162.82467651367188, 562.010498046875, 178.22817993164062)}, {'spans': [{'size': 13.5, 'flags': 4, 'font': 'FairfieldLH-Light', 'color': 2236191, 'ascender': 0.8989999890327454, 'descender': -0.24199999868869781, 'text': 'and generating large datasets that is amenable to a broad variety of real-world tasks.', 'origin': (92.356201171875, 190.95867919921875), 'bbox': (92.356201171875, 178.82217407226562, 562.010498046875, 194.22567749023438)}], 'wmode': 0, 'dir': (1.0, 0.0), 'bbox': (92.356201171875, 178.82217407226562, 562.010498046875, 194.22567749023438)}, {'spans': [{'size': 13.5, 'flags': 4, 'font': 'FairfieldLH-Light', 'color': 2236191, 'ascender': 0.8989999890327454, 'descender': -0.24199999868869781, 'text': 'Users specify the computation in terms of a ', 'origin': (92.356201171875, 206.9561767578125), 'bbox': (92.356201171875, 194.81967163085938, 332.46038818359375, 210.22317504882812)}, {'size': 13.5, 'flags': 6, 'font': 'FairfieldLH-LightItalic', 'color': 2236191, 'ascender': 0.8980000019073486, 'descender': -0.25600001215934753, 'text': 'map', 'origin': (332.08917236328125, 206.9561767578125), 'bbox': (332.08917236328125, 194.8331756591797, 355.02838134765625, 210.41217041015625)}, {'size': 13.5, 'flags': 4, 'font': 'FairfieldLH-Light', 'color': 2236191, 'ascender': 0.8989999890327454, 'descender': -0.24199999868869781, 'text': ' and a ', 'origin': (355.02838134765625, 206.9561767578125), 'bbox': (355.02838134765625, 194.81967163085938, 390.9262390136719, 210.22317504882812)}, {'size': 13.5, 'flags': 6, 'font': 'FairfieldLH-LightItalic', 'color': 2236191, 'ascender': 0.8980000019073486, 'descender': -0.25600001215934753, 'text': 'reduce', 'origin': (390.57391357421875, 206.9561767578125), 'bbox': (390.57391357421875, 194.8331756591797, 425.4241638183594, 210.41217041015625)}, {'size': 13.5, 'flags': 4, 'font': 'FairfieldLH-Light', 'color': 2236191, 'ascender': 0.8989999890327454, 'descender': -0.24199999868869781, 'text': ' function, and the under-', 'origin': (425.4241638183594, 206.9561767578125), 'bbox': (425.4241638183594, 194.81967163085938, 561.963134765625, 210.22317504882812)}], 'wmode': 0, 'dir': (1.0, 0.0), 'bbox': (92.356201171875, 194.81967163085938, 561.963134765625, 210.41217041015625)}], [{'spans': [{'size': 13.5, 'flags': 4, 'font': 'FairfieldLH-Light', 'color': 2236191, 'ascender': 0.8989999890327454, 'descender': -0.24199999868869781, 'text': 'lying runtime system automatically parallelizes the computation across large-scale clusters of', 'origin': (39.97613525390625, 222.95367431640625), 'bbox': (39.97613525390625, 210.81716918945312, 562.0132446289062, 226.22067260742188)}], 'wmode': 0, 'dir': (1.0, 0.0), 'bbox': (39.97613525390625, 210.81716918945312, 562.0132446289062, 226.22067260742188)}, {'spans': [{'size': 13.5, 'flags': 4, 'font': 'FairfieldLH-Light', 'color': 2236191, 'ascender': 0.8989999890327454, 'descender': -0.24199999868869781, 'text': 'machines, handles machine failures, and schedules inter-machine communication to make effi-', 'origin': (39.97613525390625, 238.951171875), 'bbox': (39.97613525390625, 226.81466674804688, 562.0075073242188, 242.21817016601562)}], 'wmode': 0, 'dir': (1.0, 0.0), 'bbox': (39.97613525390625, 226.81466674804688, 562.0075073242188, 242.21817016601562)}, {'spans': [{'size': 13.5, 'flags': 4, 'font': 'FairfieldLH-Light', 'color': 2236191, 'ascender': 0.8989999890327454, 'descender': -0.24199999868869781, 'text': 'cient use of the network and disks. Programmers find the system easy to use: more than ten', 'origin': (39.97613525390625, 254.94866943359375), 'bbox': (39.97613525390625, 242.81216430664062, 562.01171875, 258.2156677246094)}], 'wmode': 0, 'dir': (1.0, 0.0), 'bbox': (39.97613525390625, 242.81216430664062, 562.01171875, 258.2156677246094)}, {'spans': [{'size': 13.5, 'flags': 4, 'font': 'FairfieldLH-Light', 'color': 2236191, 'ascender': 0.8989999890327454, 'descender': -0.24199999868869781, 'text': 'thousand distinct MapReduce programs have been implemented internally at Google over the', 'origin': (39.97613525390625, 270.9461669921875), 'bbox': (39.97613525390625, 258.8096618652344, 561.9317016601562, 274.2131652832031)}], 'wmode': 0, 'dir': (1.0, 0.0), 'bbox': (39.97613525390625, 258.8096618652344, 561.9317016601562, 274.2131652832031)}, {'spans': [{'size': 13.5, 'flags': 4, 'font': 'FairfieldLH-Light', 'color': 2236191, 'ascender': 0.8989999890327454, 'descender': -0.24199999868869781, 'text': 'past four years, and an average of one hundred thousand MapReduce jobs are executed on', 'origin': (39.97613525390625, 286.94366455078125), 'bbox': (39.97613525390625, 274.8071594238281, 561.9295654296875, 290.2106628417969)}], 'wmode': 0, 'dir': (1.0, 0.0), 'bbox': (39.97613525390625, 274.8071594238281, 561.9295654296875, 290.2106628417969)}, {'spans': [{'size': 13.5, 'flags': 4, 'font': 'FairfieldLH-Light', 'color': 2236191, 'ascender': 0.8989999890327454, 'descender': -0.24199999868869781, 'text': 'Google’s clusters every day, processing a total of more than twenty petabytes of data per day.', 'origin': (39.97613525390625, 302.941162109375), 'bbox': (39.97613525390625, 290.8046569824219, 543.2185668945312, 306.2081604003906)}], 'wmode': 0, 'dir': (1.0, 0.0), 'bbox': (39.97613525390625, 290.8046569824219, 543.2185668945312, 306.2081604003906)}], [{'spans': [{'size': 10.5, 'flags': 20, 'font': 'Christiana-Bold', 'color': 13264423, 'ascender': 0.9810000061988831, 'descender': -0.30799999833106995, 'text': 'Biographies', 'origin': (46.981201171875, 660.42138671875), 'bbox': (46.981201171875, 650.1209106445312, 106.022705078125, 663.6553955078125)}], 'wmode': 0, 'dir': (1.0, 0.0), 'bbox': (46.981201171875, 650.1209106445312, 106.022705078125, 663.6553955078125)}, {'spans': [{'size': 8.954887390136719, 'flags': 6, 'font': 'FairfieldLH-LightItalic', 'color': 2236191, 'ascender': 0.8980000019073486, 'descender': -0.25600001215934753, 'text': 'Jeff Dean (', 'origin': (46.981201171875, 672.42138671875), 'bbox': (46.981201171875, 664.3394165039062, 84.22679138183594, 674.7254028320312)}, {'size': 8.457392692565918, 'flags': 4, 'font': 'FairfieldLH-Medium', 'color': 19072, 'ascender': 0.9079999923706055, 'descender': -0.25600001215934753, 'text': 'jeff@google.com', 'origin': (84.17350006103516, 672.42138671875), 'bbox': (84.17350006103516, 664.703369140625, 142.9169464111328, 674.597412109375)}, {'size': 8.954887390136719, 'flags': 6, 'font': 'FairfieldLH-LightItalic', 'color': 2236191, 'ascender': 0.8980000019073486, 'descender': -0.25600001215934753, 'text': ') is a Google Fellow and is currently work-', 'origin': (142.85780334472656, 672.42138671875), 'bbox': (142.85780334472656, 664.3394165039062, 287.96612548828125, 674.7254028320312)}], 'wmode': 0, 'dir': (1.0, 0.0), 'bbox': (46.981201171875, 664.3394165039062, 287.96612548828125, 674.7254028320312)}, {'spans': [{'size': 8.954887390136719, 'flags': 6, 'font': 'FairfieldLH-LightItalic', 'color': 2236191, 'ascender': 0.8980000019073486, 'descender': -0.25600001215934753, 'text': 'ing on a large variety of large-scale distributed systems at Google’s Moun -', 'origin': (46.977294921875, 684.4183959960938), 'bbox': (46.977294921875, 676.33642578125, 287.9749755859375, 686.722412109375)}], 'wmode': 0, 'dir': (1.0, 0.0), 'bbox': (46.977294921875, 676.33642578125, 287.9749755859375, 686.722412109375)}, {'spans': [{'size': 8.954887390136719, 'flags': 6, 'font': 'FairfieldLH-LightItalic', 'color': 2236191, 'ascender': 0.8980000019073486, 'descender': -0.25600001215934753, 'text': 'tain View, CA, facility.', 'origin': (46.97731018066406, 696.4154052734375), 'bbox': (46.97731018066406, 688.3334350585938, 124.47471618652344, 698.7194213867188)}], 'wmode': 0, 'dir': (1.0, 0.0), 'bbox': (46.97731018066406, 688.3334350585938, 124.47471618652344, 698.7194213867188)}], [{'spans': [{'size': 9.0, 'flags': 6, 'font': 'FairfieldLH-LightItalic', 'color': 2236191, 'ascender': 0.8980000019073486, 'descender': -0.25600001215934753, 'text': 'Sanjay Ghemawat (', 'origin': (46.981201171875, 712.4213256835938), 'bbox': (46.981201171875, 704.33935546875, 115.24079895019531, 714.725341796875)}, {'size': 8.5, 'flags': 4, 'font': 'FairfieldLH-Medium', 'color': 19072, 'ascender': 0.9079999923706055, 'descender': -0.25600001215934753, 'text': 'sanjay@google.com', 'origin': (115.15879821777344, 712.4213256835938), 'bbox': (115.15879821777344, 704.7033081054688, 184.4847869873047, 714.5973510742188)}, {'size': 9.0, 'flags': 6, 'font': 'FairfieldLH-LightItalic', 'color': 2236191, 'ascender': 0.8980000019073486, 'descender': -0.25600001215934753, 'text': ') is a Google Fellow and works', 'origin': (184.39720153808594, 712.4213256835938), 'bbox': (184.39720153808594, 704.33935546875, 287.9764099121094, 714.725341796875)}], 'wmode': 0, 'dir': (1.0, 0.0), 'bbox': (46.981201171875, 704.33935546875, 287.9764099121094, 714.725341796875)}, {'spans': [{'size': 9.0, 'flags': 6, 'font': 'FairfieldLH-LightItalic', 'color': 2236191, 'ascender': 0.8980000019073486, 'descender': -0.25600001215934753, 'text': 'on the distributed computing infrastructure used by most the company’s', 'origin': (46.9761962890625, 724.4183349609375), 'bbox': (46.9761962890625, 716.3363647460938, 287.96929931640625, 726.7223510742188)}], 'wmode': 0, 'dir': (1.0, 0.0), 'bbox': (46.9761962890625, 716.3363647460938, 287.96929931640625, 726.7223510742188)}, {'spans': [{'size': 9.0, 'flags': 6, 'font': 'FairfieldLH-LightItalic', 'color': 2236191, 'ascender': 0.8980000019073486, 'descender': -0.25600001215934753, 'text': 'products. He is based at Google’s Mountain View, CA, facility.', 'origin': (46.9761962890625, 736.415283203125), 'bbox': (46.9761962890625, 728.3333129882812, 264.9561462402344, 738.7192993164062)}], 'wmode': 0, 'dir': (1.0, 0.0), 'bbox': (46.9761962890625, 728.3333129882812, 264.9561462402344, 738.7192993164062)}], [{'spans': [{'size': 6.0, 'flags': 20, 'font': 'Gill-Blk', 'color': 2236191, 'ascender': 0.9179999828338623, 'descender': -0.26100000739097595, 'text': 'COMMUNICATIONS OF THE ACM', 'origin': (365.1064147949219, 768.3021240234375), 'bbox': (365.1064147949219, 762.7941284179688, 458.61456298828125, 769.8681030273438)}, {'size': 6.0, 'flags': 4, 'font': 'Gill-Bk', 'color': 2236191, 'ascender': 0.902999997138977, 'descender': -0.2630000114440918, 'text': ' January  2008/Vol. 51, No. 1', 'origin': (458.61456298828125, 768.3021240234375), 'bbox': (458.61456298828125, 762.8840942382812, 534.7443237304688, 769.880126953125)}], 'wmode': 0, 'dir': (1.0, 0.0), 'bbox': (365.1064147949219, 762.7941284179688, 534.7443237304688, 769.880126953125)}, {'spans': [{'size': 9.0, 'flags': 20, 'font': 'Gill-Blk', 'color': 2236191, 'ascender': 0.9179999828338623, 'descender': -0.26100000739097595, 'text': '107', 'origin': (544.6422729492188, 768.3021240234375), 'bbox': (544.6422729492188, 760.0401000976562, 562.480224609375, 770.651123046875)}], 'wmode': 0, 'dir': (1.0, 0.0), 'bbox': (544.6422729492188, 760.0401000976562, 562.480224609375, 770.651123046875)}]]\n"
     ]
    }
   ],
   "source": [
    "page = doc[0]\n",
    "def get_paragraphs(page):\n",
    "    blocks = page.get_text(\"dict\")[\"blocks\"]\n",
    "\n",
    "    paragraphs = []\n",
    "    for block in blocks:\n",
    "        if block[\"type\"] == 0:  # type 0 indicates text block\n",
    "            # Each text block can be treated as a paragraph\n",
    "            paragraphs.append(block[\"lines\"])\n",
    "\n",
    "    # Print out paragraphs\n",
    "    for para in paragraphs:\n",
    "        paragraph_text = \" \".join([span[\"text\"] for line in para for span in line[\"spans\"]])\n",
    "\n",
    "    print(paragraphs)\n",
    "get_paragraphs(page)"
   ]
  },
  {
   "cell_type": "markdown",
   "metadata": {},
   "source": [
    "## Exploring pymupdf4llm\n",
    "This converts a pdf to markdown which is easier to parse."
   ]
  },
  {
   "cell_type": "code",
   "execution_count": 6,
   "metadata": {},
   "outputs": [
    {
     "name": "stdout",
     "output_type": "stream",
     "text": [
      "Processing ../research_papers/mapreduce.pdf...\n",
      "[                                        ] (0/7====[=====                                   ] (1/=====[===========                             ] (2/=====[=================                       ] (3/====[======================                  ] (4/7=====[============================            ] (5/7=====[==================================      ] (6/7=====[========================================] (7/7]\n"
     ]
    },
    {
     "data": {
      "text/plain": [
       "36936"
      ]
     },
     "execution_count": 6,
     "metadata": {},
     "output_type": "execute_result"
    }
   ],
   "source": [
    "import pymupdf4llm\n",
    "md_text = pymupdf4llm.to_markdown(pdf_name)\n",
    "import pathlib\n",
    "pathlib.Path(\"output.md\").write_bytes(md_text.encode())"
   ]
  },
  {
   "cell_type": "markdown",
   "metadata": {},
   "source": [
    "## Exploring partition_pdf and unstructured\n",
    "A library made by unstructured that allows us to parse a pdf along with all the images."
   ]
  },
  {
   "cell_type": "code",
   "execution_count": 7,
   "metadata": {},
   "outputs": [
    {
     "name": "stderr",
     "output_type": "stream",
     "text": [
      "/Users/faizahmed/.pyenv/versions/3.11.8/lib/python3.11/site-packages/tqdm/auto.py:21: TqdmWarning: IProgress not found. Please update jupyter and ipywidgets. See https://ipywidgets.readthedocs.io/en/stable/user_install.html\n",
      "  from .autonotebook import tqdm as notebook_tqdm\n"
     ]
    }
   ],
   "source": [
    "# !pip install pydantic\n",
    "# !pip install partition_pdf\n",
    "# !pip install \"unstructured[all-docs]\"\n",
    "\n",
    "# !brew install poppler\n",
    "\n",
    "from typing import Any\n",
    "from pydantic import BaseModel\n",
    "from unstructured.partition.pdf import partition_pdf"
   ]
  },
  {
   "cell_type": "code",
   "execution_count": 8,
   "metadata": {},
   "outputs": [],
   "source": [
    "raw_pdf_elements = partition_pdf(\n",
    "    filename=pdf_name,\n",
    "    \n",
    "    # Using pdf format to find embedded image blocks\n",
    "    \n",
    "    # Use layout model (YOLOX) to get bounding boxes (for tables) and find titles\n",
    "    # Titles are any sub-section of the document\n",
    "    infer_table_structure=True,\n",
    "    \n",
    "    # Post processing to aggregate text once we have the title\n",
    "    # chunking_strategy=\"by_title\",\n",
    "    # Chunking params to aggregate text blocks\n",
    "    # Attempt to create a new chunk 3800 chars\n",
    "    # Attempt to keep chunks > 2000 chars\n",
    "    # Hard max on chunks\n",
    "    # max_characters=4000,\n",
    "    # new_after_n_chars=3800,\n",
    "    # combine_text_under_n_chars=2000,\n",
    "    image_output_dir_path=\"static/pdfImages/\",\n",
    ")"
   ]
  },
  {
   "cell_type": "code",
   "execution_count": 9,
   "metadata": {},
   "outputs": [
    {
     "data": {
      "text/plain": [
       "'As a reaction to this complexity, we designed a new abstraction that allows us to express the simple computations we were trying to perform but hides the messy details of parallelization, fault tolerance, data distri- bution and load balancing in a library. Our abstraction is inspired by the map and reduce primitives present in Lisp and many other functional lan- guages. We realized that most of our computations involved applying a map operation to each logical record’ in our input in order to compute a set of intermediate key/value pairs, and then applying a reduce operation to all the values that shared the same key in order to combine the derived data appropriately. Our use of a functional model with user-specified map and reduce operations allows us to parallelize large computations easily and to use reexecution as the primary mechanism for fault tolerance.'"
      ]
     },
     "execution_count": 9,
     "metadata": {},
     "output_type": "execute_result"
    }
   ],
   "source": [
    "raw_pdf_elements[9].text"
   ]
  },
  {
   "cell_type": "code",
   "execution_count": 10,
   "metadata": {},
   "outputs": [],
   "source": [
    "elements = partition_pdf(\n",
    "    filename=pdf_name,\n",
    "\n",
    "    # Unstructured Helpers\n",
    "    strategy=\"auto\", \n",
    "    infer_table_structure=True, \n",
    "    model_name=\"yolox\",\n",
    "    extract_images_in_pdf=True,\n",
    "    image_output_dir_path=\"static/pdfImages/\"\n",
    ")"
   ]
  },
  {
   "cell_type": "markdown",
   "metadata": {},
   "source": [
    "### Investigating the result of the extraction\n",
    "\n",
    "**Type of each element**"
   ]
  },
  {
   "cell_type": "code",
   "execution_count": 11,
   "metadata": {},
   "outputs": [
    {
     "data": {
      "text/plain": [
       "{'FigureCaption',\n",
       " 'Formula',\n",
       " 'Header',\n",
       " 'Image',\n",
       " 'ListItem',\n",
       " 'NarrativeText',\n",
       " 'Table',\n",
       " 'Title'}"
      ]
     },
     "execution_count": 11,
     "metadata": {},
     "output_type": "execute_result"
    }
   ],
   "source": [
    "set([element.category for element in elements])"
   ]
  },
  {
   "cell_type": "code",
   "execution_count": 1,
   "metadata": {},
   "outputs": [
    {
     "ename": "NameError",
     "evalue": "name 'elements' is not defined",
     "output_type": "error",
     "traceback": [
      "\u001b[0;31m---------------------------------------------------------------------------\u001b[0m",
      "\u001b[0;31mNameError\u001b[0m                                 Traceback (most recent call last)",
      "Cell \u001b[0;32mIn[1], line 1\u001b[0m\n\u001b[0;32m----> 1\u001b[0m \u001b[38;5;28;01mfor\u001b[39;00m element \u001b[38;5;129;01min\u001b[39;00m \u001b[43melements\u001b[49m:\n\u001b[1;32m      2\u001b[0m     \u001b[38;5;28;01mif\u001b[39;00m element\u001b[38;5;241m.\u001b[39mcategory \u001b[38;5;241m==\u001b[39m \u001b[38;5;124m\"\u001b[39m\u001b[38;5;124mListItem\u001b[39m\u001b[38;5;124m\"\u001b[39m:\n\u001b[1;32m      3\u001b[0m         \u001b[38;5;28mprint\u001b[39m(element\u001b[38;5;241m.\u001b[39mcategory, element\u001b[38;5;241m.\u001b[39mtext)\n",
      "\u001b[0;31mNameError\u001b[0m: name 'elements' is not defined"
     ]
    }
   ],
   "source": [
    "for element in elements:\n",
    "    if element.category == \"ListItem\":\n",
    "        print(element.category, element.text)"
   ]
  },
  {
   "cell_type": "code",
   "execution_count": 117,
   "metadata": {},
   "outputs": [
    {
     "data": {
      "text/plain": [
       "[<unstructured.documents.elements.FigureCaption at 0x380c26dd0>]"
      ]
     },
     "execution_count": 117,
     "metadata": {},
     "output_type": "execute_result"
    }
   ],
   "source": [
    "[element for element in elements if \"Fig. 1. \" in element.text]"
   ]
  },
  {
   "cell_type": "markdown",
   "metadata": {},
   "source": [
    "### Extracting Images    "
   ]
  },
  {
   "cell_type": "code",
   "execution_count": 103,
   "metadata": {},
   "outputs": [
    {
     "data": {
      "text/plain": [
       "['Image Path: /Users/faizahmed/Documents/SJSU/topics_in_db/Project/explorations/pdf_parsing/figures/figure-1-1.jpg and location 1',\n",
       " 'Image Path: /Users/faizahmed/Documents/SJSU/topics_in_db/Project/explorations/pdf_parsing/figures/figure-3-2.jpg and location 3',\n",
       " 'Image Path: /Users/faizahmed/Documents/SJSU/topics_in_db/Project/explorations/pdf_parsing/figures/figure-5-3.jpg and location 5',\n",
       " 'Image Path: /Users/faizahmed/Documents/SJSU/topics_in_db/Project/explorations/pdf_parsing/figures/figure-5-4.jpg and location 5',\n",
       " 'Image Path: /Users/faizahmed/Documents/SJSU/topics_in_db/Project/explorations/pdf_parsing/figures/figure-6-5.jpg and location 6']"
      ]
     },
     "execution_count": 103,
     "metadata": {},
     "output_type": "execute_result"
    }
   ],
   "source": [
    "images = [element for element in elements if element.category == \"Image\"]\n",
    "[f\"Image Path: {image.metadata.image_path} and location {image.metadata.page_number}\" for image in images]"
   ]
  },
  {
   "cell_type": "code",
   "execution_count": 77,
   "metadata": {},
   "outputs": [
    {
     "data": {
      "text/plain": [
       "'/Users/faizahmed/Documents/SJSU/topics_in_db/Project/explorations/pdf_parsing/figures/figure-5-3.jpg'"
      ]
     },
     "execution_count": 77,
     "metadata": {},
     "output_type": "execute_result"
    }
   ],
   "source": []
  },
  {
   "cell_type": "code",
   "execution_count": 12,
   "metadata": {},
   "outputs": [],
   "source": [
    "# Testing out the inbuilt chunking\n",
    "\n",
    "elements = partition_pdf(\n",
    "    filename=pdf_name,\n",
    "\n",
    "    # Unstructured Helpers\n",
    "    strategy=\"auto\", \n",
    "    chunking_strategy=\"by_title\",\n",
    "    max_characters=1024,\n",
    "    infer_table_structure=True,\n",
    "    model_name=\"yolox\",\n",
    "    extract_images_in_pdf=True,\n",
    "    image_output_dir_path=\"static/pdfImages/\"\n",
    ")"
   ]
  },
  {
   "cell_type": "code",
   "execution_count": 18,
   "metadata": {},
   "outputs": [
    {
     "data": {
      "text/plain": [
       "[<unstructured.documents.elements.Image at 0x348060b50>,\n",
       " <unstructured.documents.elements.Title at 0x3761f3390>,\n",
       " <unstructured.documents.elements.Title at 0x348063ed0>,\n",
       " <unstructured.documents.elements.Title at 0x3614f0c50>,\n",
       " <unstructured.documents.elements.NarrativeText at 0x3614f0d50>]"
      ]
     },
     "execution_count": 18,
     "metadata": {},
     "output_type": "execute_result"
    }
   ],
   "source": [
    "elements[0].metadata.orig_elements"
   ]
  },
  {
   "cell_type": "code",
   "execution_count": null,
   "metadata": {},
   "outputs": [
    {
     "data": {
      "text/plain": [
       "767.8367346938776"
      ]
     },
     "execution_count": 20,
     "metadata": {},
     "output_type": "execute_result"
    }
   ],
   "source": [
    "# Average length of text in each chunk\n",
    "sum([len(element.text) for element in elements])/len(elements)"
   ]
  },
  {
   "cell_type": "code",
   "execution_count": 25,
   "metadata": {},
   "outputs": [
    {
     "data": {
      "text/plain": [
       "1015"
      ]
     },
     "execution_count": 25,
     "metadata": {},
     "output_type": "execute_result"
    }
   ],
   "source": [
    "max([len(element.text) for element in elements])"
   ]
  },
  {
   "cell_type": "code",
   "execution_count": null,
   "metadata": {},
   "outputs": [],
   "source": []
  }
 ],
 "metadata": {
  "kernelspec": {
   "display_name": "Python 3",
   "language": "python",
   "name": "python3"
  },
  "language_info": {
   "codemirror_mode": {
    "name": "ipython",
    "version": 3
   },
   "file_extension": ".py",
   "mimetype": "text/x-python",
   "name": "python",
   "nbconvert_exporter": "python",
   "pygments_lexer": "ipython3",
   "version": "3.11.8"
  }
 },
 "nbformat": 4,
 "nbformat_minor": 2
}

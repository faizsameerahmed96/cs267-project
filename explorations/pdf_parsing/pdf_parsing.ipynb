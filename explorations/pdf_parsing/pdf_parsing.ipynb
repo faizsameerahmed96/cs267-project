{
 "cells": [
  {
   "cell_type": "markdown",
   "metadata": {},
   "source": [
    "# Parsing PDFs to extract information\n",
    "\n",
    "We will be using PyMuPDF in order to extract information from research papers. For this exploration, we will be using the MapReduce paper and see how we can extract information."
   ]
  },
  {
   "cell_type": "code",
   "execution_count": 2,
   "metadata": {},
   "outputs": [],
   "source": [
    "import pymupdf"
   ]
  },
  {
   "cell_type": "code",
   "execution_count": null,
   "metadata": {},
   "outputs": [],
   "source": [
    "pdf_name = '../research_papers/mapreduce.pdf'\n",
    "doc = None\n",
    "doc = pymupdf.open(pdf_name)"
   ]
  },
  {
   "cell_type": "code",
   "execution_count": 25,
   "metadata": {},
   "outputs": [
    {
     "data": {
      "text/html": [
       "MapReduce: Simplified Data Processing \n",
       "on Large Clusters\n",
       "by Jeffrey Dean and Sanjay Ghemawat\n",
       "1 Introduction\n",
       "Prior to our development of MapReduce, the authors and many others\n",
       "at Google implemented hundreds of special-purpose computations that\n",
       "process large amounts of raw data, such as crawled documents, Web\n",
       "request logs, etc., to compute various kinds of derived data, such as\n",
       "inverted indices, various representations of the graph structure of Web\n",
       "documents, summaries of the number of pages crawled per host, and\n",
       "the set of most frequent queries in a given day. Most such computa-\n",
       "tions are conceptually straightforward. However, the input data is usu-\n",
       "ally large and the computations have to be distributed across hundreds\n",
       "or thousands of machines in order to finish in a reasonable amount of\n",
       "time. The issues of how to parallelize the computation, distribute the\n",
       "data, and handle failures conspire to obscure the original simple com-\n",
       "putation with large amounts of complex code to deal with these issues.\n",
       "As a reaction to this complexity, we designed a new abstraction that\n",
       "allows us to express the simple computations we were trying to perform\n",
       "but hides the messy details of parallelization, fault tolerance, data distri-\n",
       "bution and load balancing in a library. Our abstraction is inspired by the\n",
       "map and reduce primitives present in Lisp and many other functional lan-\n",
       "guages. We realized that most of our computations involved applying a\n",
       "map operation to each logical record’ in our input in order to compute a\n",
       "set of intermediate key/value pairs, and then applying a reduce operation\n",
       "to all the values that shared the same key in order to combine the derived\n",
       "data appropriately. Our use of a functional model with user-specified map\n",
       "and reduce operations allows us to parallelize large computations easily\n",
       "and to use reexecution as the primary mechanism for fault tolerance.\n",
       "The major contributions of this work are a simple and powerful\n",
       "interface that enables automatic parallelization and distribution of\n",
       "large-scale computations, combined with an implementation of this\n",
       "interface that achieves high performance on large clusters of com-\n",
       "modity PCs. The programming model can also be used to parallelize\n",
       "computations across multiple cores of the same machine.\n",
       "Section 2 describes the basic programming model and gives several\n",
       "examples. In Sec tion 3, we describe an implementation of the Map Reduce\n",
       "interface tailored towards our cluster-based computing environment.\n",
       "Sec tion 4 describes several refinements of the programming model that\n",
       "we have found useful. Sec tion 5 has performance measurements of our\n",
       "implementation for a variety of tasks. In Section 6, we explore the use of\n",
       "MapReduce within Google including our experiences in using it as the ba-\n",
       "sis for a rewrite of our production indexing system. Section 7 discusses re-\n",
       "lated and future work.\n",
       "2 Programming Model\n",
       "The computation takes a set of input key/value pairs, and produces a\n",
       "set of output key/value pairs. The user of the MapReduce library\n",
       "expresses the computation as two functions: map and reduce.\n",
       "Map, written by the user, takes an input pair and produces a set of\n",
       "intermediate key/value pairs. The MapReduce library groups together\n",
       "all intermediate values associated with the same intermediate key I\n",
       "and passes them to the reduce function.\n",
       "The reduce function, also written by the user, accepts an interme-\n",
       "diate key I and a set of values for that key. It merges these values\n",
       "together to form a possibly smaller set of values. Typically just zero or\n",
       "one output value is produced per reduce invocation. The intermediate\n",
       "values are supplied to the user’s reduce function via an iterator. This\n",
       "allows us to handle lists of values that are too large to fit in memory.\n",
       "2.1 Example\n",
       "Consider the problem of counting the number of occurrences of each\n",
       "word in a large collection of documents. The user would write code\n",
       "similar to the following pseudocode.\n",
       "Abstract\n",
       "M\n",
       "apReduce is a programming model and an associated implementation for processing\n",
       "and generating large datasets that is amenable to a broad variety of real-world tasks.\n",
       "Users specify the computation in terms of a map and a reduce function, and the under-\n",
       "lying runtime system automatically parallelizes the computation across large-scale clusters of\n",
       "machines, handles machine failures, and schedules inter-machine communication to make effi-\n",
       "cient use of the network and disks. Programmers find the system easy to use: more than ten\n",
       "thousand distinct MapReduce programs have been implemented internally at Google over the\n",
       "past four years, and an average of one hundred thousand MapReduce jobs are executed on\n",
       "Google’s clusters every day, processing a total of more than twenty petabytes of data per day.\n",
       "Biographies\n",
       "Jeff Dean (jeff@google.com) is a Google Fellow and is currently work-\n",
       "ing on a large variety of large-scale distributed systems at Google’s Moun -\n",
       "tain View, CA, facility.\n",
       "Sanjay Ghemawat (sanjay@google.com) is a Google Fellow and works\n",
       "on the distributed computing infrastructure used by most the company’s\n",
       "products. He is based at Google’s Mountain View, CA, facility.\n",
       "COMMUNICATIONS OF THE ACM January  2008/Vol. 51, No. 1\n",
       "107\n"
      ],
      "text/plain": [
       "<IPython.core.display.HTML object>"
      ]
     },
     "metadata": {},
     "output_type": "display_data"
    }
   ],
   "source": [
    "from IPython.display import display, HTML\n",
    "display(HTML(doc[0].get_text()))"
   ]
  },
  {
   "cell_type": "code",
   "execution_count": 29,
   "metadata": {},
   "outputs": [
    {
     "name": "stdout",
     "output_type": "stream",
     "text": [
      "[[{'spans': [{'size': 27.658634185791016, 'flags': 4, 'font': 'Christiana-RegularSC', 'color': 2236191, 'ascender': 0.9710000157356262, 'descender': -0.30000001192092896, 'text': 'MapReduce: Simplified Data Processing ', 'origin': (141.493896484375, 81.0), 'bbox': (141.493896484375, 51.869998931884766, 568.6085815429688, 90.0)}], 'wmode': 0, 'dir': (1.0, 0.0), 'bbox': (141.493896484375, 51.869998931884766, 568.6085815429688, 90.0)}], [{'spans': [{'size': 27.658634185791016, 'flags': 4, 'font': 'Christiana-RegularSC', 'color': 2236191, 'ascender': 0.9710000157356262, 'descender': -0.30000001192092896, 'text': 'on Large Clusters', 'origin': (365.6643981933594, 111.0), 'bbox': (365.6643981933594, 81.8699951171875, 561.947998046875, 120.0)}], 'wmode': 0, 'dir': (1.0, 0.0), 'bbox': (365.6643981933594, 81.8699951171875, 561.947998046875, 120.0)}], [{'spans': [{'size': 10.0, 'flags': 20, 'font': 'Christiana-Bold', 'color': 2236191, 'ascender': 0.9810000061988831, 'descender': -0.30799999833106995, 'text': 'by Jeffrey Dean and Sanjay Ghemawat', 'origin': (382.1214904785156, 135.0), 'bbox': (382.1214904785156, 125.19000244140625, 561.99755859375, 138.0800018310547)}], 'wmode': 0, 'dir': (1.0, 0.0), 'bbox': (382.1214904785156, 125.19000244140625, 561.99755859375, 138.0800018310547)}], [{'spans': [{'size': 10.5, 'flags': 20, 'font': 'Christiana-Bold', 'color': 13264423, 'ascender': 0.9810000061988831, 'descender': -0.30799999833106995, 'text': '1 Introduction', 'origin': (39.981201171875, 327.0), 'bbox': (39.981201171875, 316.6994934082031, 114.31910705566406, 330.2340087890625)}], 'wmode': 0, 'dir': (1.0, 0.0), 'bbox': (39.981201171875, 316.6994934082031, 114.31910705566406, 330.2340087890625)}, {'spans': [{'size': 8.977472305297852, 'flags': 4, 'font': 'FairfieldLH-Light', 'color': 2236191, 'ascender': 0.8989999890327454, 'descender': -0.24199999868869781, 'text': 'Prior to our development of MapReduce, the authors and many others', 'origin': (39.981201171875, 339.0), 'bbox': (39.981201171875, 330.90899658203125, 294.96148681640625, 341.1780090332031)}], 'wmode': 0, 'dir': (1.0, 0.0), 'bbox': (39.981201171875, 330.90899658203125, 294.96148681640625, 341.1780090332031)}, {'spans': [{'size': 8.977472305297852, 'flags': 4, 'font': 'FairfieldLH-Light', 'color': 2236191, 'ascender': 0.8989999890327454, 'descender': -0.24199999868869781, 'text': 'at Google implemented hundreds of special-purpose computations that', 'origin': (39.981201171875, 350.99700927734375), 'bbox': (39.981201171875, 342.906005859375, 295.0026550292969, 353.1750183105469)}], 'wmode': 0, 'dir': (1.0, 0.0), 'bbox': (39.981201171875, 342.906005859375, 295.0026550292969, 353.1750183105469)}, {'spans': [{'size': 8.977472305297852, 'flags': 4, 'font': 'FairfieldLH-Light', 'color': 2236191, 'ascender': 0.8989999890327454, 'descender': -0.24199999868869781, 'text': 'process large amounts of raw data, such as crawled documents, Web', 'origin': (39.981201171875, 362.9940185546875), 'bbox': (39.981201171875, 354.90301513671875, 294.9676208496094, 365.1720275878906)}], 'wmode': 0, 'dir': (1.0, 0.0), 'bbox': (39.981201171875, 354.90301513671875, 294.9676208496094, 365.1720275878906)}, {'spans': [{'size': 8.977472305297852, 'flags': 4, 'font': 'FairfieldLH-Light', 'color': 2236191, 'ascender': 0.8989999890327454, 'descender': -0.24199999868869781, 'text': 'request logs, etc., to compute various kinds of derived data, such as', 'origin': (39.981201171875, 374.99102783203125), 'bbox': (39.981201171875, 366.9000244140625, 294.9794006347656, 377.1690368652344)}], 'wmode': 0, 'dir': (1.0, 0.0), 'bbox': (39.981201171875, 366.9000244140625, 294.9794006347656, 377.1690368652344)}, {'spans': [{'size': 8.977472305297852, 'flags': 4, 'font': 'FairfieldLH-Light', 'color': 2236191, 'ascender': 0.8989999890327454, 'descender': -0.24199999868869781, 'text': 'inverted indices, various representations of the graph structure of Web', 'origin': (39.981201171875, 386.988037109375), 'bbox': (39.981201171875, 378.89703369140625, 294.96063232421875, 389.1660461425781)}], 'wmode': 0, 'dir': (1.0, 0.0), 'bbox': (39.981201171875, 378.89703369140625, 294.96063232421875, 389.1660461425781)}, {'spans': [{'size': 8.977472305297852, 'flags': 4, 'font': 'FairfieldLH-Light', 'color': 2236191, 'ascender': 0.8989999890327454, 'descender': -0.24199999868869781, 'text': 'documents, summaries of the number of pages crawled per host, and', 'origin': (39.981201171875, 398.98504638671875), 'bbox': (39.981201171875, 390.89404296875, 294.95880126953125, 401.1630554199219)}], 'wmode': 0, 'dir': (1.0, 0.0), 'bbox': (39.981201171875, 390.89404296875, 294.95880126953125, 401.1630554199219)}, {'spans': [{'size': 8.977472305297852, 'flags': 4, 'font': 'FairfieldLH-Light', 'color': 2236191, 'ascender': 0.8989999890327454, 'descender': -0.24199999868869781, 'text': 'the set of most frequent queries in a given day. Most such computa-', 'origin': (39.981201171875, 410.9820556640625), 'bbox': (39.981201171875, 402.89105224609375, 294.9820556640625, 413.1600646972656)}], 'wmode': 0, 'dir': (1.0, 0.0), 'bbox': (39.981201171875, 402.89105224609375, 294.9820556640625, 413.1600646972656)}, {'spans': [{'size': 8.977472305297852, 'flags': 4, 'font': 'FairfieldLH-Light', 'color': 2236191, 'ascender': 0.8989999890327454, 'descender': -0.24199999868869781, 'text': 'tions are conceptually straightforward. However, the input data is usu-', 'origin': (39.981201171875, 422.97906494140625), 'bbox': (39.981201171875, 414.8880615234375, 294.9570617675781, 425.1570739746094)}], 'wmode': 0, 'dir': (1.0, 0.0), 'bbox': (39.981201171875, 414.8880615234375, 294.9570617675781, 425.1570739746094)}, {'spans': [{'size': 8.977472305297852, 'flags': 4, 'font': 'FairfieldLH-Light', 'color': 2236191, 'ascender': 0.8989999890327454, 'descender': -0.24199999868869781, 'text': 'ally large and the computations have to be distributed across hundreds', 'origin': (39.981201171875, 434.97607421875), 'bbox': (39.981201171875, 426.88507080078125, 294.9632568359375, 437.1540832519531)}], 'wmode': 0, 'dir': (1.0, 0.0), 'bbox': (39.981201171875, 426.88507080078125, 294.9632568359375, 437.1540832519531)}, {'spans': [{'size': 8.977472305297852, 'flags': 4, 'font': 'FairfieldLH-Light', 'color': 2236191, 'ascender': 0.8989999890327454, 'descender': -0.24199999868869781, 'text': 'or thousands of machines in order to finish in a reasonable amount of', 'origin': (39.981201171875, 446.97308349609375), 'bbox': (39.981201171875, 438.882080078125, 294.9533996582031, 449.1510925292969)}], 'wmode': 0, 'dir': (1.0, 0.0), 'bbox': (39.981201171875, 438.882080078125, 294.9533996582031, 449.1510925292969)}, {'spans': [{'size': 8.977472305297852, 'flags': 4, 'font': 'FairfieldLH-Light', 'color': 2236191, 'ascender': 0.8989999890327454, 'descender': -0.24199999868869781, 'text': 'time. The issues of how to parallelize the computation, distribute the', 'origin': (39.981201171875, 458.9700927734375), 'bbox': (39.981201171875, 450.87908935546875, 294.94537353515625, 461.1481018066406)}], 'wmode': 0, 'dir': (1.0, 0.0), 'bbox': (39.981201171875, 450.87908935546875, 294.94537353515625, 461.1481018066406)}, {'spans': [{'size': 8.977472305297852, 'flags': 4, 'font': 'FairfieldLH-Light', 'color': 2236191, 'ascender': 0.8989999890327454, 'descender': -0.24199999868869781, 'text': 'data, and handle failures conspire to obscure the original simple com-', 'origin': (39.981201171875, 470.96710205078125), 'bbox': (39.981201171875, 462.8760986328125, 294.9632873535156, 473.1451110839844)}], 'wmode': 0, 'dir': (1.0, 0.0), 'bbox': (39.981201171875, 462.8760986328125, 294.9632873535156, 473.1451110839844)}, {'spans': [{'size': 8.977472305297852, 'flags': 4, 'font': 'FairfieldLH-Light', 'color': 2236191, 'ascender': 0.8989999890327454, 'descender': -0.24199999868869781, 'text': 'putation with large amounts of complex code to deal with these issues.', 'origin': (39.981201171875, 482.964111328125), 'bbox': (39.981201171875, 474.87310791015625, 294.9417724609375, 485.1421203613281)}], 'wmode': 0, 'dir': (1.0, 0.0), 'bbox': (39.981201171875, 474.87310791015625, 294.9417724609375, 485.1421203613281)}], [{'spans': [{'size': 8.954887390136719, 'flags': 4, 'font': 'FairfieldLH-Light', 'color': 2236191, 'ascender': 0.8989999890327454, 'descender': -0.24199999868869781, 'text': 'As a reaction to this complexity, we designed a new abstraction that', 'origin': (51.981201171875, 495.0), 'bbox': (51.981201171875, 486.90899658203125, 294.97918701171875, 497.1780090332031)}], 'wmode': 0, 'dir': (1.0, 0.0), 'bbox': (51.981201171875, 486.90899658203125, 294.97918701171875, 497.1780090332031)}], [{'spans': [{'size': 8.954887390136719, 'flags': 4, 'font': 'FairfieldLH-Light', 'color': 2236191, 'ascender': 0.8989999890327454, 'descender': -0.24199999868869781, 'text': 'allows us to express the simple computations we were trying to perform', 'origin': (39.97943115234375, 506.99700927734375), 'bbox': (39.97943115234375, 498.906005859375, 294.97564697265625, 509.1750183105469)}], 'wmode': 0, 'dir': (1.0, 0.0), 'bbox': (39.97943115234375, 498.906005859375, 294.97564697265625, 509.1750183105469)}, {'spans': [{'size': 8.954887390136719, 'flags': 4, 'font': 'FairfieldLH-Light', 'color': 2236191, 'ascender': 0.8989999890327454, 'descender': -0.24199999868869781, 'text': 'but hides the messy details of parallelization, fault tolerance, data distri-', 'origin': (39.97943115234375, 518.9940185546875), 'bbox': (39.97943115234375, 510.90301513671875, 294.9837646484375, 521.1719970703125)}], 'wmode': 0, 'dir': (1.0, 0.0), 'bbox': (39.97943115234375, 510.90301513671875, 294.9837646484375, 521.1719970703125)}, {'spans': [{'size': 8.954887390136719, 'flags': 4, 'font': 'FairfieldLH-Light', 'color': 2236191, 'ascender': 0.8989999890327454, 'descender': -0.24199999868869781, 'text': 'bution and load balancing in a library. Our abstraction is inspired by the', 'origin': (39.97943115234375, 530.9910278320312), 'bbox': (39.97943115234375, 522.9000244140625, 294.9988708496094, 533.1690063476562)}], 'wmode': 0, 'dir': (1.0, 0.0), 'bbox': (39.97943115234375, 522.9000244140625, 294.9988708496094, 533.1690063476562)}, {'spans': [{'size': 8.954887390136719, 'flags': 6, 'font': 'FairfieldLH-LightItalic', 'color': 2236191, 'ascender': 0.8980000019073486, 'descender': -0.25600001215934753, 'text': 'map', 'origin': (39.97943115234375, 542.988037109375), 'bbox': (39.97943115234375, 534.9060668945312, 54.92328643798828, 545.2920532226562)}, {'size': 8.954887390136719, 'flags': 4, 'font': 'FairfieldLH-Light', 'color': 2236191, 'ascender': 0.8989999890327454, 'descender': -0.24199999868869781, 'text': ' and ', 'origin': (54.92328643798828, 542.988037109375), 'bbox': (54.92328643798828, 534.8970336914062, 72.12315368652344, 545.166015625)}, {'size': 8.954887390136719, 'flags': 6, 'font': 'FairfieldLH-LightItalic', 'color': 2236191, 'ascender': 0.8980000019073486, 'descender': -0.25600001215934753, 'text': 'reduce', 'origin': (71.79704284667969, 542.988037109375), 'bbox': (71.79704284667969, 534.9060668945312, 94.31261444091797, 545.2920532226562)}, {'size': 8.954887390136719, 'flags': 4, 'font': 'FairfieldLH-Light', 'color': 2236191, 'ascender': 0.8989999890327454, 'descender': -0.24199999868869781, 'text': ' primitives present in Lisp and many other functional lan-', 'origin': (94.31261444091797, 542.988037109375), 'bbox': (94.31261444091797, 534.8970336914062, 294.97113037109375, 545.166015625)}], 'wmode': 0, 'dir': (1.0, 0.0), 'bbox': (39.97943115234375, 534.8970336914062, 294.97113037109375, 545.2920532226562)}, {'spans': [{'size': 8.954887390136719, 'flags': 4, 'font': 'FairfieldLH-Light', 'color': 2236191, 'ascender': 0.8989999890327454, 'descender': -0.24199999868869781, 'text': 'guages. We realized that most of our computations involved applying a', 'origin': (39.979434967041016, 554.9850463867188), 'bbox': (39.979434967041016, 546.89404296875, 294.9623107910156, 557.1630249023438)}], 'wmode': 0, 'dir': (1.0, 0.0), 'bbox': (39.979434967041016, 546.89404296875, 294.9623107910156, 557.1630249023438)}, {'spans': [{'size': 8.954887390136719, 'flags': 4, 'font': 'FairfieldLH-Light', 'color': 2236191, 'ascender': 0.8989999890327454, 'descender': -0.24199999868869781, 'text': 'map operation to each logical record’ in our input in order to compute a', 'origin': (39.979434967041016, 566.9820556640625), 'bbox': (39.979434967041016, 558.8910522460938, 294.9792175292969, 569.1600341796875)}], 'wmode': 0, 'dir': (1.0, 0.0), 'bbox': (39.979434967041016, 558.8910522460938, 294.9792175292969, 569.1600341796875)}, {'spans': [{'size': 8.954887390136719, 'flags': 4, 'font': 'FairfieldLH-Light', 'color': 2236191, 'ascender': 0.8989999890327454, 'descender': -0.24199999868869781, 'text': 'set of intermediate key/value pairs, and then applying a reduce operation', 'origin': (39.979434967041016, 578.97900390625), 'bbox': (39.979434967041016, 570.8880004882812, 294.9926452636719, 581.156982421875)}], 'wmode': 0, 'dir': (1.0, 0.0), 'bbox': (39.979434967041016, 570.8880004882812, 294.9926452636719, 581.156982421875)}, {'spans': [{'size': 8.954887390136719, 'flags': 4, 'font': 'FairfieldLH-Light', 'color': 2236191, 'ascender': 0.8989999890327454, 'descender': -0.24199999868869781, 'text': 'to all the values that shared the same key in order to combine the derived', 'origin': (39.979434967041016, 590.9760131835938), 'bbox': (39.979434967041016, 582.885009765625, 294.9729309082031, 593.1539916992188)}], 'wmode': 0, 'dir': (1.0, 0.0), 'bbox': (39.979434967041016, 582.885009765625, 294.9729309082031, 593.1539916992188)}, {'spans': [{'size': 8.954887390136719, 'flags': 4, 'font': 'FairfieldLH-Light', 'color': 2236191, 'ascender': 0.8989999890327454, 'descender': -0.24199999868869781, 'text': 'data appropriately. Our use of a functional model with user-specified map', 'origin': (39.979434967041016, 602.9730224609375), 'bbox': (39.979434967041016, 594.8820190429688, 294.97650146484375, 605.1510009765625)}], 'wmode': 0, 'dir': (1.0, 0.0), 'bbox': (39.979434967041016, 594.8820190429688, 294.97650146484375, 605.1510009765625)}, {'spans': [{'size': 8.954887390136719, 'flags': 4, 'font': 'FairfieldLH-Light', 'color': 2236191, 'ascender': 0.8989999890327454, 'descender': -0.24199999868869781, 'text': 'and reduce operations allows us to parallelize large computations easily', 'origin': (39.979434967041016, 614.969970703125), 'bbox': (39.979434967041016, 606.8789672851562, 294.9872741699219, 617.14794921875)}], 'wmode': 0, 'dir': (1.0, 0.0), 'bbox': (39.979434967041016, 606.8789672851562, 294.9872741699219, 617.14794921875)}, {'spans': [{'size': 8.954887390136719, 'flags': 4, 'font': 'FairfieldLH-Light', 'color': 2236191, 'ascender': 0.8989999890327454, 'descender': -0.24199999868869781, 'text': 'and to use reexecution as the primary mechanism for fault tolerance.', 'origin': (39.979434967041016, 626.9669799804688), 'bbox': (39.979434967041016, 618.8759765625, 283.9308166503906, 629.1449584960938)}], 'wmode': 0, 'dir': (1.0, 0.0), 'bbox': (39.979434967041016, 618.8759765625, 283.9308166503906, 629.1449584960938)}], [{'spans': [{'size': 9.0, 'flags': 4, 'font': 'FairfieldLH-Light', 'color': 2236191, 'ascender': 0.8989999890327454, 'descender': -0.24199999868869781, 'text': 'The major contributions of this work are a simple and powerful', 'origin': (318.981201171875, 327.0), 'bbox': (318.981201171875, 318.90899658203125, 561.9969482421875, 329.1780090332031)}], 'wmode': 0, 'dir': (1.0, 0.0), 'bbox': (318.981201171875, 318.90899658203125, 561.9969482421875, 329.1780090332031)}], [{'spans': [{'size': 9.0, 'flags': 4, 'font': 'FairfieldLH-Light', 'color': 2236191, 'ascender': 0.8989999890327454, 'descender': -0.24199999868869781, 'text': 'interface that enables automatic parallelization and distribution of', 'origin': (306.98419189453125, 338.99700927734375), 'bbox': (306.98419189453125, 330.906005859375, 561.9857788085938, 341.1750183105469)}], 'wmode': 0, 'dir': (1.0, 0.0), 'bbox': (306.98419189453125, 330.906005859375, 561.9857788085938, 341.1750183105469)}, {'spans': [{'size': 9.0, 'flags': 4, 'font': 'FairfieldLH-Light', 'color': 2236191, 'ascender': 0.8989999890327454, 'descender': -0.24199999868869781, 'text': 'large-scale computations, combined with an implementation of this', 'origin': (306.98419189453125, 350.9940185546875), 'bbox': (306.98419189453125, 342.90301513671875, 561.9824829101562, 353.1720275878906)}], 'wmode': 0, 'dir': (1.0, 0.0), 'bbox': (306.98419189453125, 342.90301513671875, 561.9824829101562, 353.1720275878906)}, {'spans': [{'size': 9.0, 'flags': 4, 'font': 'FairfieldLH-Light', 'color': 2236191, 'ascender': 0.8989999890327454, 'descender': -0.24199999868869781, 'text': 'interface that achieves high performance on large clusters of com-', 'origin': (306.98419189453125, 362.99102783203125), 'bbox': (306.98419189453125, 354.9000244140625, 561.9801635742188, 365.1690368652344)}], 'wmode': 0, 'dir': (1.0, 0.0), 'bbox': (306.98419189453125, 354.9000244140625, 561.9801635742188, 365.1690368652344)}, {'spans': [{'size': 9.0, 'flags': 4, 'font': 'FairfieldLH-Light', 'color': 2236191, 'ascender': 0.8989999890327454, 'descender': -0.24199999868869781, 'text': 'modity PCs. The programming model can also be used to parallelize', 'origin': (306.98419189453125, 374.988037109375), 'bbox': (306.98419189453125, 366.89703369140625, 561.9795532226562, 377.1660461425781)}], 'wmode': 0, 'dir': (1.0, 0.0), 'bbox': (306.98419189453125, 366.89703369140625, 561.9795532226562, 377.1660461425781)}, {'spans': [{'size': 9.0, 'flags': 4, 'font': 'FairfieldLH-Light', 'color': 2236191, 'ascender': 0.8989999890327454, 'descender': -0.24199999868869781, 'text': 'computations across multiple cores of the same machine.', 'origin': (306.98419189453125, 386.98504638671875), 'bbox': (306.98419189453125, 378.89404296875, 517.8469848632812, 389.1630554199219)}], 'wmode': 0, 'dir': (1.0, 0.0), 'bbox': (306.98419189453125, 378.89404296875, 517.8469848632812, 389.1630554199219)}], [{'spans': [{'size': 8.954887390136719, 'flags': 4, 'font': 'FairfieldLH-Light', 'color': 2236191, 'ascender': 0.8989999890327454, 'descender': -0.24199999868869781, 'text': 'Section 2 describes the basic programming model and gives several', 'origin': (318.981201171875, 399.0), 'bbox': (318.981201171875, 390.90899658203125, 561.98828125, 401.1780090332031)}], 'wmode': 0, 'dir': (1.0, 0.0), 'bbox': (318.981201171875, 390.90899658203125, 561.98828125, 401.1780090332031)}], [{'spans': [{'size': 8.954887390136719, 'flags': 4, 'font': 'FairfieldLH-Light', 'color': 2236191, 'ascender': 0.8989999890327454, 'descender': -0.24199999868869781, 'text': 'examples. In Sec tion 3, we describe an implementation of the Map Reduce', 'origin': (306.97943115234375, 410.99700927734375), 'bbox': (306.97943115234375, 402.906005859375, 561.9746704101562, 413.1750183105469)}], 'wmode': 0, 'dir': (1.0, 0.0), 'bbox': (306.97943115234375, 402.906005859375, 561.9746704101562, 413.1750183105469)}, {'spans': [{'size': 8.954887390136719, 'flags': 4, 'font': 'FairfieldLH-Light', 'color': 2236191, 'ascender': 0.8989999890327454, 'descender': -0.24199999868869781, 'text': 'interface tailored towards our cluster-based computing environment.', 'origin': (306.97052001953125, 422.9940185546875), 'bbox': (306.97052001953125, 414.90301513671875, 561.9459838867188, 425.1720275878906)}], 'wmode': 0, 'dir': (1.0, 0.0), 'bbox': (306.97052001953125, 414.90301513671875, 561.9459838867188, 425.1720275878906)}, {'spans': [{'size': 8.954887390136719, 'flags': 4, 'font': 'FairfieldLH-Light', 'color': 2236191, 'ascender': 0.8989999890327454, 'descender': -0.24199999868869781, 'text': 'Sec tion 4 describes several refinements of the programming model that', 'origin': (306.97052001953125, 434.99102783203125), 'bbox': (306.97052001953125, 426.9000244140625, 561.9749145507812, 437.1690368652344)}], 'wmode': 0, 'dir': (1.0, 0.0), 'bbox': (306.97052001953125, 426.9000244140625, 561.9749145507812, 437.1690368652344)}, {'spans': [{'size': 8.954887390136719, 'flags': 4, 'font': 'FairfieldLH-Light', 'color': 2236191, 'ascender': 0.8989999890327454, 'descender': -0.24199999868869781, 'text': 'we have found useful. Sec tion 5 has performance measurements of our', 'origin': (306.97052001953125, 446.988037109375), 'bbox': (306.97052001953125, 438.89703369140625, 561.9703979492188, 449.1660461425781)}], 'wmode': 0, 'dir': (1.0, 0.0), 'bbox': (306.97052001953125, 438.89703369140625, 561.9703979492188, 449.1660461425781)}, {'spans': [{'size': 8.954887390136719, 'flags': 4, 'font': 'FairfieldLH-Light', 'color': 2236191, 'ascender': 0.8989999890327454, 'descender': -0.24199999868869781, 'text': 'implementation for a variety of tasks. In Section 6, we explore the use of', 'origin': (306.97052001953125, 458.98504638671875), 'bbox': (306.97052001953125, 450.89404296875, 561.978515625, 461.1630554199219)}], 'wmode': 0, 'dir': (1.0, 0.0), 'bbox': (306.97052001953125, 450.89404296875, 561.978515625, 461.1630554199219)}, {'spans': [{'size': 8.954887390136719, 'flags': 4, 'font': 'FairfieldLH-Light', 'color': 2236191, 'ascender': 0.8989999890327454, 'descender': -0.24199999868869781, 'text': 'MapReduce within Google including our experiences in using it as the ba-', 'origin': (306.97052001953125, 470.9820556640625), 'bbox': (306.97052001953125, 462.89105224609375, 561.9674682617188, 473.1600646972656)}], 'wmode': 0, 'dir': (1.0, 0.0), 'bbox': (306.97052001953125, 462.89105224609375, 561.9674682617188, 473.1600646972656)}, {'spans': [{'size': 8.954887390136719, 'flags': 4, 'font': 'FairfieldLH-Light', 'color': 2236191, 'ascender': 0.8989999890327454, 'descender': -0.24199999868869781, 'text': 'sis for a rewrite of our production indexing system. Section 7 discusses re-', 'origin': (306.97052001953125, 482.97906494140625), 'bbox': (306.97052001953125, 474.8880615234375, 561.9968872070312, 485.1570739746094)}], 'wmode': 0, 'dir': (1.0, 0.0), 'bbox': (306.97052001953125, 474.8880615234375, 561.9968872070312, 485.1570739746094)}, {'spans': [{'size': 8.954887390136719, 'flags': 4, 'font': 'FairfieldLH-Light', 'color': 2236191, 'ascender': 0.8989999890327454, 'descender': -0.24199999868869781, 'text': 'lated and future work.', 'origin': (306.97052001953125, 494.97607421875), 'bbox': (306.97052001953125, 486.88507080078125, 385.8222961425781, 497.1540832519531)}], 'wmode': 0, 'dir': (1.0, 0.0), 'bbox': (306.97052001953125, 486.88507080078125, 385.8222961425781, 497.1540832519531)}], [{'spans': [{'size': 10.5, 'flags': 20, 'font': 'Christiana-Bold', 'color': 13264423, 'ascender': 0.9810000061988831, 'descender': -0.30799999833106995, 'text': '2 Programming Model', 'origin': (306.981201171875, 519.0), 'bbox': (306.981201171875, 508.6994934082031, 421.9342346191406, 522.2340087890625)}], 'wmode': 0, 'dir': (1.0, 0.0), 'bbox': (306.981201171875, 508.6994934082031, 421.9342346191406, 522.2340087890625)}, {'spans': [{'size': 9.0, 'flags': 4, 'font': 'FairfieldLH-Light', 'color': 2236191, 'ascender': 0.8989999890327454, 'descender': -0.24199999868869781, 'text': 'The computation takes a set of ', 'origin': (306.981201171875, 531.0), 'bbox': (306.981201171875, 522.9089965820312, 424.1341552734375, 533.177978515625)}, {'size': 9.0, 'flags': 6, 'font': 'FairfieldLH-LightItalic', 'color': 2236191, 'ascender': 0.8980000019073486, 'descender': -0.25600001215934753, 'text': 'input', 'origin': (424.50946044921875, 531.0), 'bbox': (424.50946044921875, 522.9180297851562, 443.8378601074219, 533.3040161132812)}, {'size': 9.0, 'flags': 4, 'font': 'FairfieldLH-Light', 'color': 2236191, 'ascender': 0.8989999890327454, 'descender': -0.24199999868869781, 'text': ' key/value pairs, and produces a', 'origin': (443.8378601074219, 531.0), 'bbox': (443.8378601074219, 522.9089965820312, 561.9745483398438, 533.177978515625)}], 'wmode': 0, 'dir': (1.0, 0.0), 'bbox': (306.981201171875, 522.9089965820312, 561.9745483398438, 533.3040161132812)}, {'spans': [{'size': 9.0, 'flags': 4, 'font': 'FairfieldLH-Light', 'color': 2236191, 'ascender': 0.8989999890327454, 'descender': -0.24199999868869781, 'text': 'set of ', 'origin': (306.981201171875, 542.9970092773438), 'bbox': (306.981201171875, 534.906005859375, 331.20111083984375, 545.1749877929688)}, {'size': 9.0, 'flags': 6, 'font': 'FairfieldLH-LightItalic', 'color': 2236191, 'ascender': 0.8980000019073486, 'descender': -0.25600001215934753, 'text': 'output', 'origin': (331.926513671875, 542.9970092773438), 'bbox': (331.926513671875, 534.9150390625, 356.5820007324219, 545.301025390625)}, {'size': 9.0, 'flags': 4, 'font': 'FairfieldLH-Light', 'color': 2236191, 'ascender': 0.8989999890327454, 'descender': -0.24199999868869781, 'text': ' key/value pairs. The user of the MapReduce library', 'origin': (356.5820007324219, 542.9970092773438), 'bbox': (356.5820007324219, 534.906005859375, 562.0293579101562, 545.1749877929688)}], 'wmode': 0, 'dir': (1.0, 0.0), 'bbox': (306.981201171875, 534.906005859375, 562.0293579101562, 545.301025390625)}, {'spans': [{'size': 9.0, 'flags': 4, 'font': 'FairfieldLH-Light', 'color': 2236191, 'ascender': 0.8989999890327454, 'descender': -0.24199999868869781, 'text': 'expresses the computation as two functions: map and reduce.', 'origin': (306.981201171875, 554.9940185546875), 'bbox': (306.981201171875, 546.9030151367188, 533.3095703125, 557.1719970703125)}], 'wmode': 0, 'dir': (1.0, 0.0), 'bbox': (306.981201171875, 546.9030151367188, 533.3095703125, 557.1719970703125)}], [{'spans': [{'size': 9.0, 'flags': 4, 'font': 'FairfieldLH-Light', 'color': 2236191, 'ascender': 0.8989999890327454, 'descender': -0.24199999868869781, 'text': 'Map, written by the user, takes an input pair and produces a set of', 'origin': (318.97821044921875, 566.990966796875), 'bbox': (318.97821044921875, 558.8999633789062, 562.0009155273438, 569.1689453125)}], 'wmode': 0, 'dir': (1.0, 0.0), 'bbox': (318.97821044921875, 558.8999633789062, 562.0009155273438, 569.1689453125)}], [{'spans': [{'size': 9.0, 'flags': 6, 'font': 'FairfieldLH-LightItalic', 'color': 2236191, 'ascender': 0.8980000019073486, 'descender': -0.25600001215934753, 'text': 'intermediate', 'origin': (306.981201171875, 578.9879760742188), 'bbox': (306.981201171875, 570.906005859375, 351.27825927734375, 581.2919921875)}, {'size': 9.0, 'flags': 4, 'font': 'FairfieldLH-Light', 'color': 2236191, 'ascender': 0.8989999890327454, 'descender': -0.24199999868869781, 'text': ' key/value pairs. The MapReduce library groups together', 'origin': (351.27825927734375, 578.9879760742188), 'bbox': (351.27825927734375, 570.89697265625, 562.0025634765625, 581.1659545898438)}], 'wmode': 0, 'dir': (1.0, 0.0), 'bbox': (306.981201171875, 570.89697265625, 562.0025634765625, 581.2919921875)}, {'spans': [{'size': 9.0, 'flags': 4, 'font': 'FairfieldLH-Light', 'color': 2236191, 'ascender': 0.8989999890327454, 'descender': -0.24199999868869781, 'text': 'all intermediate values associated with the same intermediate key ', 'origin': (306.981201171875, 590.9849853515625), 'bbox': (306.981201171875, 582.8939819335938, 558.3851318359375, 593.1629638671875)}, {'size': 9.0, 'flags': 6, 'font': 'FairfieldLH-LightItalic', 'color': 2236191, 'ascender': 0.8980000019073486, 'descender': -0.25600001215934753, 'text': 'I', 'origin': (558.990234375, 590.9849853515625), 'bbox': (558.990234375, 582.9030151367188, 561.9872436523438, 593.2890014648438)}], 'wmode': 0, 'dir': (1.0, 0.0), 'bbox': (306.981201171875, 582.8939819335938, 561.9872436523438, 593.2890014648438)}, {'spans': [{'size': 9.0, 'flags': 4, 'font': 'FairfieldLH-Light', 'color': 2236191, 'ascender': 0.8989999890327454, 'descender': -0.24199999868869781, 'text': 'and passes them to the reduce function.', 'origin': (306.9812316894531, 602.9819946289062), 'bbox': (306.9812316894531, 594.8909912109375, 454.78826904296875, 605.1599731445312)}], 'wmode': 0, 'dir': (1.0, 0.0), 'bbox': (306.9812316894531, 594.8909912109375, 454.78826904296875, 605.1599731445312)}], [{'spans': [{'size': 9.0, 'flags': 4, 'font': 'FairfieldLH-Light', 'color': 2236191, 'ascender': 0.8989999890327454, 'descender': -0.24199999868869781, 'text': 'The reduce function, also written by the user, accepts an interme-', 'origin': (318.9782409667969, 614.97900390625), 'bbox': (318.9782409667969, 606.8880004882812, 561.9917602539062, 617.156982421875)}], 'wmode': 0, 'dir': (1.0, 0.0), 'bbox': (318.9782409667969, 606.8880004882812, 561.9917602539062, 617.156982421875)}], [{'spans': [{'size': 9.0, 'flags': 4, 'font': 'FairfieldLH-Light', 'color': 2236191, 'ascender': 0.8989999890327454, 'descender': -0.24199999868869781, 'text': 'diate key ', 'origin': (306.9812316894531, 626.9759521484375), 'bbox': (306.9812316894531, 618.8849487304688, 344.152099609375, 629.1539306640625)}, {'size': 9.0, 'flags': 6, 'font': 'FairfieldLH-LightItalic', 'color': 2236191, 'ascender': 0.8980000019073486, 'descender': -0.25600001215934753, 'text': 'I', 'origin': (344.73260498046875, 626.9759521484375), 'bbox': (344.73260498046875, 618.8939819335938, 347.7296142578125, 629.2799682617188)}, {'size': 9.0, 'flags': 4, 'font': 'FairfieldLH-Light', 'color': 2236191, 'ascender': 0.8989999890327454, 'descender': -0.24199999868869781, 'text': ' and a set of values for that key. It merges these values', 'origin': (347.7296142578125, 626.9759521484375), 'bbox': (347.7296142578125, 618.8849487304688, 561.962890625, 629.1539306640625)}], 'wmode': 0, 'dir': (1.0, 0.0), 'bbox': (306.9812316894531, 618.8849487304688, 561.962890625, 629.2799682617188)}, {'spans': [{'size': 9.0, 'flags': 4, 'font': 'FairfieldLH-Light', 'color': 2236191, 'ascender': 0.8989999890327454, 'descender': -0.24199999868869781, 'text': 'together to form a possibly smaller set of values. Typically just zero or', 'origin': (306.9812316894531, 638.9729614257812), 'bbox': (306.9812316894531, 630.8819580078125, 561.998046875, 641.1509399414062)}], 'wmode': 0, 'dir': (1.0, 0.0), 'bbox': (306.9812316894531, 630.8819580078125, 561.998046875, 641.1509399414062)}, {'spans': [{'size': 9.0, 'flags': 4, 'font': 'FairfieldLH-Light', 'color': 2236191, 'ascender': 0.8989999890327454, 'descender': -0.24199999868869781, 'text': 'one output value is produced per reduce invocation. The intermediate', 'origin': (306.9812316894531, 650.969970703125), 'bbox': (306.9812316894531, 642.8789672851562, 562.006103515625, 653.14794921875)}], 'wmode': 0, 'dir': (1.0, 0.0), 'bbox': (306.9812316894531, 642.8789672851562, 562.006103515625, 653.14794921875)}, {'spans': [{'size': 9.0, 'flags': 4, 'font': 'FairfieldLH-Light', 'color': 2236191, 'ascender': 0.8989999890327454, 'descender': -0.24199999868869781, 'text': 'values are supplied to the user’s reduce function via an iterator. This', 'origin': (306.9812316894531, 662.9669189453125), 'bbox': (306.9812316894531, 654.8759155273438, 561.9988403320312, 665.1448974609375)}], 'wmode': 0, 'dir': (1.0, 0.0), 'bbox': (306.9812316894531, 654.8759155273438, 561.9988403320312, 665.1448974609375)}, {'spans': [{'size': 9.0, 'flags': 4, 'font': 'FairfieldLH-Light', 'color': 2236191, 'ascender': 0.8989999890327454, 'descender': -0.24199999868869781, 'text': 'allows us to handle lists of values that are too large to fit in memory.', 'origin': (306.9812316894531, 674.9639282226562), 'bbox': (306.9812316894531, 666.8729248046875, 556.426025390625, 677.1419067382812)}], 'wmode': 0, 'dir': (1.0, 0.0), 'bbox': (306.9812316894531, 666.8729248046875, 556.426025390625, 677.1419067382812)}], [{'spans': [{'size': 10.5, 'flags': 20, 'font': 'Christiana-Bold', 'color': 13264423, 'ascender': 0.9810000061988831, 'descender': -0.30799999833106995, 'text': '2.1 Example', 'origin': (306.981201171875, 699.0), 'bbox': (306.981201171875, 688.6995239257812, 367.5672607421875, 702.2340087890625)}], 'wmode': 0, 'dir': (1.0, 0.0), 'bbox': (306.981201171875, 688.6995239257812, 367.5672607421875, 702.2340087890625)}, {'spans': [{'size': 9.0, 'flags': 4, 'font': 'FairfieldLH-Light', 'color': 2236191, 'ascender': 0.8989999890327454, 'descender': -0.24199999868869781, 'text': 'Consider the problem of counting the number of occurrences of each', 'origin': (306.981201171875, 711.0), 'bbox': (306.981201171875, 702.9089965820312, 561.9916381835938, 713.177978515625)}], 'wmode': 0, 'dir': (1.0, 0.0), 'bbox': (306.981201171875, 702.9089965820312, 561.9916381835938, 713.177978515625)}, {'spans': [{'size': 9.0, 'flags': 4, 'font': 'FairfieldLH-Light', 'color': 2236191, 'ascender': 0.8989999890327454, 'descender': -0.24199999868869781, 'text': 'word in a large collection of documents. The user would write code', 'origin': (306.981201171875, 722.9970092773438), 'bbox': (306.981201171875, 714.906005859375, 561.9735717773438, 725.1749877929688)}], 'wmode': 0, 'dir': (1.0, 0.0), 'bbox': (306.981201171875, 714.906005859375, 561.9735717773438, 725.1749877929688)}, {'spans': [{'size': 9.0, 'flags': 4, 'font': 'FairfieldLH-Light', 'color': 2236191, 'ascender': 0.8989999890327454, 'descender': -0.24199999868869781, 'text': 'similar to the following pseudocode.', 'origin': (306.981201171875, 734.9940185546875), 'bbox': (306.981201171875, 726.9030151367188, 439.7015380859375, 737.1719970703125)}], 'wmode': 0, 'dir': (1.0, 0.0), 'bbox': (306.981201171875, 726.9030151367188, 439.7015380859375, 737.1719970703125)}], [{'spans': [{'size': 13.5, 'flags': 20, 'font': 'Christiana-Bold', 'color': 13264423, 'ascender': 0.9810000061988831, 'descender': -0.30799999833106995, 'text': 'Abstract', 'origin': (39.981201171875, 158.961181640625), 'bbox': (39.981201171875, 145.71768188476562, 92.26264953613281, 163.1191864013672)}], 'wmode': 0, 'dir': (1.0, 0.0), 'bbox': (39.981201171875, 145.71768188476562, 92.26264953613281, 163.1191864013672)}], [{'spans': [{'size': 59.63199996948242, 'flags': 4, 'font': 'Christiana-Regular', 'color': 13264423, 'ascender': 0.9710000157356262, 'descender': -0.30000001192092896, 'text': 'M', 'origin': (37.71900177001953, 206.961181640625), 'bbox': (37.71900177001953, 149.05850219726562, 92.40154266357422, 224.8507843017578)}], 'wmode': 0, 'dir': (1.0, 0.0), 'bbox': (37.71900177001953, 149.05850219726562, 92.40154266357422, 224.8507843017578)}], [{'spans': [{'size': 13.5, 'flags': 4, 'font': 'FairfieldLH-Light', 'color': 2236191, 'ascender': 0.8989999890327454, 'descender': -0.24199999868869781, 'text': 'apReduce is a programming model and an associated implementation for processing', 'origin': (92.356201171875, 174.961181640625), 'bbox': (92.356201171875, 162.82467651367188, 562.010498046875, 178.22817993164062)}], 'wmode': 0, 'dir': (1.0, 0.0), 'bbox': (92.356201171875, 162.82467651367188, 562.010498046875, 178.22817993164062)}, {'spans': [{'size': 13.5, 'flags': 4, 'font': 'FairfieldLH-Light', 'color': 2236191, 'ascender': 0.8989999890327454, 'descender': -0.24199999868869781, 'text': 'and generating large datasets that is amenable to a broad variety of real-world tasks.', 'origin': (92.356201171875, 190.95867919921875), 'bbox': (92.356201171875, 178.82217407226562, 562.010498046875, 194.22567749023438)}], 'wmode': 0, 'dir': (1.0, 0.0), 'bbox': (92.356201171875, 178.82217407226562, 562.010498046875, 194.22567749023438)}, {'spans': [{'size': 13.5, 'flags': 4, 'font': 'FairfieldLH-Light', 'color': 2236191, 'ascender': 0.8989999890327454, 'descender': -0.24199999868869781, 'text': 'Users specify the computation in terms of a ', 'origin': (92.356201171875, 206.9561767578125), 'bbox': (92.356201171875, 194.81967163085938, 332.46038818359375, 210.22317504882812)}, {'size': 13.5, 'flags': 6, 'font': 'FairfieldLH-LightItalic', 'color': 2236191, 'ascender': 0.8980000019073486, 'descender': -0.25600001215934753, 'text': 'map', 'origin': (332.08917236328125, 206.9561767578125), 'bbox': (332.08917236328125, 194.8331756591797, 355.02838134765625, 210.41217041015625)}, {'size': 13.5, 'flags': 4, 'font': 'FairfieldLH-Light', 'color': 2236191, 'ascender': 0.8989999890327454, 'descender': -0.24199999868869781, 'text': ' and a ', 'origin': (355.02838134765625, 206.9561767578125), 'bbox': (355.02838134765625, 194.81967163085938, 390.9262390136719, 210.22317504882812)}, {'size': 13.5, 'flags': 6, 'font': 'FairfieldLH-LightItalic', 'color': 2236191, 'ascender': 0.8980000019073486, 'descender': -0.25600001215934753, 'text': 'reduce', 'origin': (390.57391357421875, 206.9561767578125), 'bbox': (390.57391357421875, 194.8331756591797, 425.4241638183594, 210.41217041015625)}, {'size': 13.5, 'flags': 4, 'font': 'FairfieldLH-Light', 'color': 2236191, 'ascender': 0.8989999890327454, 'descender': -0.24199999868869781, 'text': ' function, and the under-', 'origin': (425.4241638183594, 206.9561767578125), 'bbox': (425.4241638183594, 194.81967163085938, 561.963134765625, 210.22317504882812)}], 'wmode': 0, 'dir': (1.0, 0.0), 'bbox': (92.356201171875, 194.81967163085938, 561.963134765625, 210.41217041015625)}], [{'spans': [{'size': 13.5, 'flags': 4, 'font': 'FairfieldLH-Light', 'color': 2236191, 'ascender': 0.8989999890327454, 'descender': -0.24199999868869781, 'text': 'lying runtime system automatically parallelizes the computation across large-scale clusters of', 'origin': (39.97613525390625, 222.95367431640625), 'bbox': (39.97613525390625, 210.81716918945312, 562.0132446289062, 226.22067260742188)}], 'wmode': 0, 'dir': (1.0, 0.0), 'bbox': (39.97613525390625, 210.81716918945312, 562.0132446289062, 226.22067260742188)}, {'spans': [{'size': 13.5, 'flags': 4, 'font': 'FairfieldLH-Light', 'color': 2236191, 'ascender': 0.8989999890327454, 'descender': -0.24199999868869781, 'text': 'machines, handles machine failures, and schedules inter-machine communication to make effi-', 'origin': (39.97613525390625, 238.951171875), 'bbox': (39.97613525390625, 226.81466674804688, 562.0075073242188, 242.21817016601562)}], 'wmode': 0, 'dir': (1.0, 0.0), 'bbox': (39.97613525390625, 226.81466674804688, 562.0075073242188, 242.21817016601562)}, {'spans': [{'size': 13.5, 'flags': 4, 'font': 'FairfieldLH-Light', 'color': 2236191, 'ascender': 0.8989999890327454, 'descender': -0.24199999868869781, 'text': 'cient use of the network and disks. Programmers find the system easy to use: more than ten', 'origin': (39.97613525390625, 254.94866943359375), 'bbox': (39.97613525390625, 242.81216430664062, 562.01171875, 258.2156677246094)}], 'wmode': 0, 'dir': (1.0, 0.0), 'bbox': (39.97613525390625, 242.81216430664062, 562.01171875, 258.2156677246094)}, {'spans': [{'size': 13.5, 'flags': 4, 'font': 'FairfieldLH-Light', 'color': 2236191, 'ascender': 0.8989999890327454, 'descender': -0.24199999868869781, 'text': 'thousand distinct MapReduce programs have been implemented internally at Google over the', 'origin': (39.97613525390625, 270.9461669921875), 'bbox': (39.97613525390625, 258.8096618652344, 561.9317016601562, 274.2131652832031)}], 'wmode': 0, 'dir': (1.0, 0.0), 'bbox': (39.97613525390625, 258.8096618652344, 561.9317016601562, 274.2131652832031)}, {'spans': [{'size': 13.5, 'flags': 4, 'font': 'FairfieldLH-Light', 'color': 2236191, 'ascender': 0.8989999890327454, 'descender': -0.24199999868869781, 'text': 'past four years, and an average of one hundred thousand MapReduce jobs are executed on', 'origin': (39.97613525390625, 286.94366455078125), 'bbox': (39.97613525390625, 274.8071594238281, 561.9295654296875, 290.2106628417969)}], 'wmode': 0, 'dir': (1.0, 0.0), 'bbox': (39.97613525390625, 274.8071594238281, 561.9295654296875, 290.2106628417969)}, {'spans': [{'size': 13.5, 'flags': 4, 'font': 'FairfieldLH-Light', 'color': 2236191, 'ascender': 0.8989999890327454, 'descender': -0.24199999868869781, 'text': 'Google’s clusters every day, processing a total of more than twenty petabytes of data per day.', 'origin': (39.97613525390625, 302.941162109375), 'bbox': (39.97613525390625, 290.8046569824219, 543.2185668945312, 306.2081604003906)}], 'wmode': 0, 'dir': (1.0, 0.0), 'bbox': (39.97613525390625, 290.8046569824219, 543.2185668945312, 306.2081604003906)}], [{'spans': [{'size': 10.5, 'flags': 20, 'font': 'Christiana-Bold', 'color': 13264423, 'ascender': 0.9810000061988831, 'descender': -0.30799999833106995, 'text': 'Biographies', 'origin': (46.981201171875, 660.42138671875), 'bbox': (46.981201171875, 650.1209106445312, 106.022705078125, 663.6553955078125)}], 'wmode': 0, 'dir': (1.0, 0.0), 'bbox': (46.981201171875, 650.1209106445312, 106.022705078125, 663.6553955078125)}, {'spans': [{'size': 8.954887390136719, 'flags': 6, 'font': 'FairfieldLH-LightItalic', 'color': 2236191, 'ascender': 0.8980000019073486, 'descender': -0.25600001215934753, 'text': 'Jeff Dean (', 'origin': (46.981201171875, 672.42138671875), 'bbox': (46.981201171875, 664.3394165039062, 84.22679138183594, 674.7254028320312)}, {'size': 8.457392692565918, 'flags': 4, 'font': 'FairfieldLH-Medium', 'color': 19072, 'ascender': 0.9079999923706055, 'descender': -0.25600001215934753, 'text': 'jeff@google.com', 'origin': (84.17350006103516, 672.42138671875), 'bbox': (84.17350006103516, 664.703369140625, 142.9169464111328, 674.597412109375)}, {'size': 8.954887390136719, 'flags': 6, 'font': 'FairfieldLH-LightItalic', 'color': 2236191, 'ascender': 0.8980000019073486, 'descender': -0.25600001215934753, 'text': ') is a Google Fellow and is currently work-', 'origin': (142.85780334472656, 672.42138671875), 'bbox': (142.85780334472656, 664.3394165039062, 287.96612548828125, 674.7254028320312)}], 'wmode': 0, 'dir': (1.0, 0.0), 'bbox': (46.981201171875, 664.3394165039062, 287.96612548828125, 674.7254028320312)}, {'spans': [{'size': 8.954887390136719, 'flags': 6, 'font': 'FairfieldLH-LightItalic', 'color': 2236191, 'ascender': 0.8980000019073486, 'descender': -0.25600001215934753, 'text': 'ing on a large variety of large-scale distributed systems at Google’s Moun -', 'origin': (46.977294921875, 684.4183959960938), 'bbox': (46.977294921875, 676.33642578125, 287.9749755859375, 686.722412109375)}], 'wmode': 0, 'dir': (1.0, 0.0), 'bbox': (46.977294921875, 676.33642578125, 287.9749755859375, 686.722412109375)}, {'spans': [{'size': 8.954887390136719, 'flags': 6, 'font': 'FairfieldLH-LightItalic', 'color': 2236191, 'ascender': 0.8980000019073486, 'descender': -0.25600001215934753, 'text': 'tain View, CA, facility.', 'origin': (46.97731018066406, 696.4154052734375), 'bbox': (46.97731018066406, 688.3334350585938, 124.47471618652344, 698.7194213867188)}], 'wmode': 0, 'dir': (1.0, 0.0), 'bbox': (46.97731018066406, 688.3334350585938, 124.47471618652344, 698.7194213867188)}], [{'spans': [{'size': 9.0, 'flags': 6, 'font': 'FairfieldLH-LightItalic', 'color': 2236191, 'ascender': 0.8980000019073486, 'descender': -0.25600001215934753, 'text': 'Sanjay Ghemawat (', 'origin': (46.981201171875, 712.4213256835938), 'bbox': (46.981201171875, 704.33935546875, 115.24079895019531, 714.725341796875)}, {'size': 8.5, 'flags': 4, 'font': 'FairfieldLH-Medium', 'color': 19072, 'ascender': 0.9079999923706055, 'descender': -0.25600001215934753, 'text': 'sanjay@google.com', 'origin': (115.15879821777344, 712.4213256835938), 'bbox': (115.15879821777344, 704.7033081054688, 184.4847869873047, 714.5973510742188)}, {'size': 9.0, 'flags': 6, 'font': 'FairfieldLH-LightItalic', 'color': 2236191, 'ascender': 0.8980000019073486, 'descender': -0.25600001215934753, 'text': ') is a Google Fellow and works', 'origin': (184.39720153808594, 712.4213256835938), 'bbox': (184.39720153808594, 704.33935546875, 287.9764099121094, 714.725341796875)}], 'wmode': 0, 'dir': (1.0, 0.0), 'bbox': (46.981201171875, 704.33935546875, 287.9764099121094, 714.725341796875)}, {'spans': [{'size': 9.0, 'flags': 6, 'font': 'FairfieldLH-LightItalic', 'color': 2236191, 'ascender': 0.8980000019073486, 'descender': -0.25600001215934753, 'text': 'on the distributed computing infrastructure used by most the company’s', 'origin': (46.9761962890625, 724.4183349609375), 'bbox': (46.9761962890625, 716.3363647460938, 287.96929931640625, 726.7223510742188)}], 'wmode': 0, 'dir': (1.0, 0.0), 'bbox': (46.9761962890625, 716.3363647460938, 287.96929931640625, 726.7223510742188)}, {'spans': [{'size': 9.0, 'flags': 6, 'font': 'FairfieldLH-LightItalic', 'color': 2236191, 'ascender': 0.8980000019073486, 'descender': -0.25600001215934753, 'text': 'products. He is based at Google’s Mountain View, CA, facility.', 'origin': (46.9761962890625, 736.415283203125), 'bbox': (46.9761962890625, 728.3333129882812, 264.9561462402344, 738.7192993164062)}], 'wmode': 0, 'dir': (1.0, 0.0), 'bbox': (46.9761962890625, 728.3333129882812, 264.9561462402344, 738.7192993164062)}], [{'spans': [{'size': 6.0, 'flags': 20, 'font': 'Gill-Blk', 'color': 2236191, 'ascender': 0.9179999828338623, 'descender': -0.26100000739097595, 'text': 'COMMUNICATIONS OF THE ACM', 'origin': (365.1064147949219, 768.3021240234375), 'bbox': (365.1064147949219, 762.7941284179688, 458.61456298828125, 769.8681030273438)}, {'size': 6.0, 'flags': 4, 'font': 'Gill-Bk', 'color': 2236191, 'ascender': 0.902999997138977, 'descender': -0.2630000114440918, 'text': ' January  2008/Vol. 51, No. 1', 'origin': (458.61456298828125, 768.3021240234375), 'bbox': (458.61456298828125, 762.8840942382812, 534.7443237304688, 769.880126953125)}], 'wmode': 0, 'dir': (1.0, 0.0), 'bbox': (365.1064147949219, 762.7941284179688, 534.7443237304688, 769.880126953125)}, {'spans': [{'size': 9.0, 'flags': 20, 'font': 'Gill-Blk', 'color': 2236191, 'ascender': 0.9179999828338623, 'descender': -0.26100000739097595, 'text': '107', 'origin': (544.6422729492188, 768.3021240234375), 'bbox': (544.6422729492188, 760.0401000976562, 562.480224609375, 770.651123046875)}], 'wmode': 0, 'dir': (1.0, 0.0), 'bbox': (544.6422729492188, 760.0401000976562, 562.480224609375, 770.651123046875)}]]\n"
     ]
    }
   ],
   "source": [
    "page = doc[0]\n",
    "def get_paragraphs(page):\n",
    "    blocks = page.get_text(\"dict\")[\"blocks\"]\n",
    "\n",
    "    paragraphs = []\n",
    "    for block in blocks:\n",
    "        if block[\"type\"] == 0:  # type 0 indicates text block\n",
    "            # Each text block can be treated as a paragraph\n",
    "            paragraphs.append(block[\"lines\"])\n",
    "\n",
    "    # Print out paragraphs\n",
    "    for para in paragraphs:\n",
    "        paragraph_text = \" \".join([span[\"text\"] for line in para for span in line[\"spans\"]])\n",
    "\n",
    "    print(paragraphs)\n",
    "get_paragraphs(page)"
   ]
  },
  {
   "cell_type": "markdown",
   "metadata": {},
   "source": [
    "## Exploring pymupdf4llm\n",
    "This converts a pdf to markdown which is easier to parse."
   ]
  },
  {
   "cell_type": "code",
   "execution_count": 32,
   "metadata": {},
   "outputs": [
    {
     "name": "stdout",
     "output_type": "stream",
     "text": [
      "Processing mapreduce.pdf...\n",
      "[                                        ] (0/7====[=====                                   ] (1/=====[===========                             ] (2/=====[=================                       ] (3/====[======================                  ] (4/7=====[============================            ] (5/7=====[==================================      ] (6/7=====[========================================] (7/7]\n"
     ]
    },
    {
     "data": {
      "text/plain": [
       "36936"
      ]
     },
     "execution_count": 32,
     "metadata": {},
     "output_type": "execute_result"
    }
   ],
   "source": [
    "import pymupdf4llm\n",
    "md_text = pymupdf4llm.to_markdown(pdf_name)\n",
    "import pathlib\n",
    "pathlib.Path(\"output.md\").write_bytes(md_text.encode())"
   ]
  },
  {
   "cell_type": "markdown",
   "metadata": {},
   "source": [
    "## Exploring partition_pdf and unstructured\n",
    "A library made by unstructured that allows us to parse a pdf along with all the images."
   ]
  },
  {
   "cell_type": "code",
   "execution_count": null,
   "metadata": {},
   "outputs": [],
   "source": [
    "# !pip install pydantic\n",
    "# !pip install partition_pdf\n",
    "# !pip install \"unstructured[all-docs]\"\n",
    "\n",
    "# !brew install poppler\n",
    "\n",
    "from typing import Any\n",
    "from pydantic import BaseModel\n",
    "from unstructured.partition.pdf import partition_pdf"
   ]
  },
  {
   "cell_type": "code",
   "execution_count": null,
   "metadata": {},
   "outputs": [],
   "source": [
    "raw_pdf_elements = partition_pdf(\n",
    "    filename=pdf_name,\n",
    "    \n",
    "    # Using pdf format to find embedded image blocks\n",
    "    \n",
    "    # Use layout model (YOLOX) to get bounding boxes (for tables) and find titles\n",
    "    # Titles are any sub-section of the document\n",
    "    infer_table_structure=True,\n",
    "    \n",
    "    # Post processing to aggregate text once we have the title\n",
    "    # chunking_strategy=\"by_title\",\n",
    "    # Chunking params to aggregate text blocks\n",
    "    # Attempt to create a new chunk 3800 chars\n",
    "    # Attempt to keep chunks > 2000 chars\n",
    "    # Hard max on chunks\n",
    "    # max_characters=4000,\n",
    "    # new_after_n_chars=3800,\n",
    "    # combine_text_under_n_chars=2000,\n",
    "    image_output_dir_path=\"static/pdfImages/\",\n",
    ")"
   ]
  },
  {
   "cell_type": "code",
   "execution_count": 55,
   "metadata": {},
   "outputs": [
    {
     "data": {
      "text/plain": [
       "'As a reaction to this complexity, we designed a new abstraction that allows us to express the simple computations we were trying to perform but hides the messy details of parallelization, fault tolerance, data distri- bution and load balancing in a library. Our abstraction is inspired by the map and reduce primitives present in Lisp and many other functional lan- guages. We realized that most of our computations involved applying a map operation to each logical record’ in our input in order to'"
      ]
     },
     "execution_count": 55,
     "metadata": {},
     "output_type": "execute_result"
    }
   ],
   "source": [
    "raw_pdf_elements[9].text"
   ]
  },
  {
   "cell_type": "code",
   "execution_count": 108,
   "metadata": {},
   "outputs": [],
   "source": [
    "elements = partition_pdf(\n",
    "    filename=pdf_name,\n",
    "\n",
    "    # Unstructured Helpers\n",
    "    strategy=\"fast\", \n",
    "    infer_table_structure=True, \n",
    "    model_name=\"yolox\",\n",
    "    extract_images_in_pdf=True,\n",
    "    image_output_dir_path=\"static/pdfImages/\"\n",
    ")"
   ]
  },
  {
   "cell_type": "markdown",
   "metadata": {},
   "source": [
    "### Investigating the result of the extraction\n",
    "\n",
    "**Type of each element**"
   ]
  },
  {
   "cell_type": "code",
   "execution_count": 110,
   "metadata": {},
   "outputs": [
    {
     "data": {
      "text/plain": [
       "{'Footer', 'Header', 'ListItem', 'NarrativeText', 'Title', 'UncategorizedText'}"
      ]
     },
     "execution_count": 110,
     "metadata": {},
     "output_type": "execute_result"
    }
   ],
   "source": [
    "set([element.category for element in elements])"
   ]
  },
  {
   "cell_type": "code",
   "execution_count": 99,
   "metadata": {},
   "outputs": [
    {
     "name": "stdout",
     "output_type": "stream",
     "text": [
      "Image Check for updates.\n",
      "Title MapReduce: Simplified Data Processing on Large Clusters\n",
      "Title by Jeffrey Dean and Sanjay Ghemawat\n",
      "Title Abstract\n",
      "NarrativeText MapReduce is a programming model and an associated implementation for processing and generating large datasets that is amenable to a broad variety of real-world tasks. Users specify the computation in terms of a map and a reduce function, and the under- lying runtime system automatically parallelizes the computation across large-scale clusters of machines, handles machine failures, and schedules inter-machine communication to make effi- cient use of the network and disks. Programmers find the system easy to use: more than ten thousand distinct MapReduce programs have been implemented internally at Google over the past four years, and an average of one hundred thousand MapReduce jobs are executed on Google’s clusters every day, processing a total of more than twenty petabytes of data per day.\n",
      "Title 1 Introduction\n",
      "NarrativeText Prior to our development of MapReduce, the authors and many others at Google implemented hundreds of special-purpose computations that process large amounts of raw data, such as crawled documents, Web request logs, etc., to compute various kinds of derived data, such as inverted indices, various representations of the graph structure of Web documents, summaries of the number of pages crawled per host, and the set of most frequent queries in a given day. Most such computa- tions are conceptually straightforward. However, the input data is usu- ally large and the computations have to be distributed across hundreds or thousands of machines in order to finish in a reasonable amount of time. The issues of how to parallelize the computation, distribute the data, and handle failures conspire to obscure the original simple com- putation with large amounts of complex code to deal with these issues.\n",
      "NarrativeText The major contributions of this work are a simple and powerful interface that enables automatic parallelization and distribution of large-scale computations, combined with an implementation of this interface that achieves high performance on large clusters of com- modity PCs. The programming model can also be used to parallelize computations across multiple cores of the same machine.\n",
      "NarrativeText Section 2 describes the basic programming model and gives several examples. In Sec tion 3, we describe an implementation of the Map Reduce interface tailored towards our cluster-based computing environment. Sec tion 4 describes several refinements of the programming model that we have found useful. Sec tion 5 has performance measurements of our implementation for a variety of tasks. In Section 6, we explore the use of MapReduce within Google including our experiences in using it as the ba- sis for a rewrite of our production indexing system. Section 7 discusses re- lated and future work.\n",
      "NarrativeText As a reaction to this complexity, we designed a new abstraction that allows us to express the simple computations we were trying to perform but hides the messy details of parallelization, fault tolerance, data distri- bution and load balancing in a library. Our abstraction is inspired by the map and reduce primitives present in Lisp and many other functional lan- guages. We realized that most of our computations involved applying a map operation to each logical record’ in our input in order to compute a set of intermediate key/value pairs, and then applying a reduce operation to all the values that shared the same key in order to combine the derived data appropriately. Our use of a functional model with user-specified map and reduce operations allows us to parallelize large computations easily and to use reexecution as the primary mechanism for fault tolerance.\n",
      "Title Biographies\n",
      "NarrativeText Jeff Dean (jeff@google.com) is a Google Fellow and is currently work- ing on a large variety of large-scale distributed systems at Google’s Moun - tain View, CA, facility.\n",
      "Title 2 Programming Model\n",
      "NarrativeText The computation takes a set of input key/value pairs, and produces a set of output key/value pairs. The user of the MapReduce library expresses the computation as two functions: map and reduce.\n",
      "NarrativeText Map, written by the user, takes an input pair and produces a set of intermediate key/value pairs. The MapReduce library groups together all intermediate values associated with the same intermediate key I and passes them to the reduce function.\n",
      "NarrativeText The reduce function, also written by the user, accepts an interme- diate key I and a set of values for that key. It merges these values together to form a possibly smaller set of values. Typically just zero or one output value is produced per reduce invocation. The intermediate values are supplied to the user’s reduce function via an iterator. This allows us to handle lists of values that are too large to fit in memory.\n",
      "Title 2.1 Example\n",
      "NarrativeText Sanjay Ghemawat (sanjay@google.com) is a Google Fellow and works on the distributed computing infrastructure used by most the company’s products. He is based at Google’s Mountain View, CA, facility.\n",
      "NarrativeText Consider the problem of counting the number of occurrences of each word in a large collection of documents. The user would write code similar to the following pseudocode.\n",
      "Title COMMUNICATIONS OF THE ACM January 2008/Vol. 51, No. 1 107\n",
      "NarrativeText map(String key, String value): // key: document name // value: document contents for each word w in value: EmitIntermediate(w, “1”);\n",
      "NarrativeText reduce(String key, Iterator values):\n",
      "NarrativeText // key: a word // values: a list of counts int result = 0; for each v in values: result += ParseInt(v); Emit(AsString(result));\n",
      "NarrativeText The map function emits each word plus an associated count of occurrences (just 1 in this simple example). The reduce function sums together all counts emitted for a particular word.\n",
      "NarrativeText In addition, the user writes code to fill in a mapreduce specification object with the names of the input and output files and optional tun- ing parameters. The user then invokes the MapReduce function, pass- ing it to the specification object. The user’s code is linked together with the MapReduce library (implemented in C++). Our original MapReduce paper contains the full program text for this example [8].\n",
      "NarrativeText More than ten thousand distinct programs have been implemented using MapReduce at Google, including algorithms for large-scale graph processing, text processing, data mining, machine learning, sta- tistical machine translation, and many other areas. More discussion of specific applications of MapReduce can be found elsewhere [8, 16, 7].\n",
      "Title 2.2 Types\n",
      "NarrativeText Even though the previous pseudocode is written in terms of string inputs and outputs, conceptually the map and reduce functions sup- plied by the user have associated types.\n",
      "Formula map (k1,v1) → list(k2,v2) reduce (k2,list(v2)) → list(v2)\n",
      "NarrativeText That is, the input keys and values are drawn from a different domain than the output keys and values. Furthermore, the intermediate keys and values are from the same domain as the output keys and values.\n",
      "Title 3. Implementation\n",
      "NarrativeText Many different implementations of the MapReduce interface are pos- sible. The right choice depends on the environment. For example, one implementation may be suitable for a small shared-memory machine, another for a large NUMA multiprocessor, and yet another for an even larger collection of networked machines. Since our original article, sev- eral open source implementations of MapReduce have been developed [1, 2], and the applicability of MapReduce to a variety of problem domains has been studied [7, 16].\n",
      "NarrativeText This section describes our implementation of MapReduce that is tar- geted to the computing environment in wide use at Google: large clusters of commodity PCs connected together with switched Gigabit Ethernet [4]. In our environment, machines are typically dual-processor x86 processors running Linux, with 4-8GB of memory per machine. Individual machines typically have 1 gigabit/second of network band- width, but the overall bisection bandwidth available per machine is con-\n",
      "NarrativeText 108 January 2008/Vol. 51, No. 1 COMMUNICATIONS OF THE ACM\n",
      "NarrativeText siderably less than 1 gigabit/second. A computing cluster contains many thousands of machines, and therefore machine failures are common. Storage is provided by inexpensive IDE disks attached directly to individ- ual machines. GFS, a distributed file system developed in-house [10], is used to manage the data stored on these disks. The file system uses repli- cation to provide availability and reliability on top of unreliable hardware.\n",
      "NarrativeText Users submit jobs to a scheduling system. Each job consists of a set of tasks, and is mapped by the scheduler to a set of available machines within a cluster.\n",
      "Title 3.1 Execution Overview\n",
      "NarrativeText The map invocations are distributed across multiple machines by auto- matically partitioning the input data into a set of M splits. The input splits can be processed in parallel by different machines. Reduce invo- cations are distributed by partitioning the intermediate key space into R pieces using a partitioning function (e.g., hash(key) mod R). The number of partitions (R) and the partitioning function are specified by the user.\n",
      "NarrativeText Figure 1 shows the overall flow of a MapReduce operation in our implementation. When the user program calls the MapReduce func- tion, the following sequence of actions occurs (the numbered labels in Figure 1 correspond to the numbers in the following list).\n",
      "ListItem 1. The MapReduce library in the user program first splits the input files into M pieces of typically 16-64MB per piece (controllable by the user via an optional parameter). It then starts up many copies of the program on a cluster of machines.\n",
      "ListItem 2. One of the copies of the program—the master— is special. The rest are workers that are assigned work by the master. There are M map tasks and R reduce tasks to assign. The master picks idle workers and assigns each one a map task or a reduce task.\n",
      "ListItem 3. A worker who is assigned a map task reads the contents of the corre- sponding input split. It parses key/value pairs out of the input data and passes each pair to the user-defined map function. The intermediate key/value pairs produced by the map function are buffered in memory.\n",
      "ListItem 4. Periodically, the buffered pairs are written to local disk, partitioned into R regions by the partitioning function. The locations of these buffered pairs on the local disk are passed back to the master who is responsible for forwarding these locations to the reduce workers.\n",
      "ListItem 5. When a reduce worker is notified by the master about these loca- tions, it uses remote procedure calls to read the buffered data from the local disks of the map workers. When a reduce worker has read all intermediate data for its partition, it sorts it by the intermediate keys so that all occurrences of the same key are grouped together. The sorting is needed because typically many different keys map to the same reduce task. If the amount of intermediate data is too large to fit in memory, an external sort is used.\n",
      "ListItem 6. The reduce worker iterates over the sorted intermediate data and for each unique intermediate key encountered, it passes the key and the corresponding set of intermediate values to the user’s reduce func- tion. The output of the reduce function is appended to a final out- put file for this reduce partition.\n",
      "Title To ECE\n",
      "Header MapReduce: Simplified Data Processing on Large Clusters\n",
      "Image User  Program  (1) fork  (1) fork  (1) fork  Master  (2)  (2)  assign  assign  map  reduce  worker  split 0  split 1  split 2  (3) read  worker  (4) local write     ( 5 )  ( 5 )  r     e m o t  e a d  r  e    worker  (6) write  output  file 0  split 3  split 4  worker  output  file 1  worker  Input  Map  Intermediate files  Reduce  Output  files  phasr  (on local disks)  phase  files \n",
      "FigureCaption Fig. 1. Execution overview.\n",
      "ListItem 7. When all map tasks and reduce tasks have been completed, the mas- ter wakes up the user program. At this point, the MapReduce call in the user program returns back to the user code.\n",
      "NarrativeText After successful completion, the output of the mapreduce execution is available in the R output files (one per reduce task, with file names specified by the user). Typically, users do not need to combine these R output files into one file; they often pass these files as input to another MapReduce call or use them from another distributed application that is able to deal with input that is partitioned into multiple files.\n",
      "Title Handling Worker Failures\n",
      "NarrativeText The master pings every worker periodically. If no response is received from a worker in a certain amount of time, the master marks the worker as failed. Any map tasks completed by the worker are reset back to their initial idle state and therefore become eligible for scheduling on other workers. Similarly, any map task or reduce task in progress on a failed worker is also reset to idle and becomes eligible for rescheduling.\n",
      "NarrativeText Completed map tasks are reexecuted on a failure because their out- put is stored on the local disk(s) of the failed machine and is therefore inaccessible. Completed reduce tasks do not need to be reexecuted since their output is stored in a global file system.\n",
      "Title 3.2 Master Data Structures\n",
      "NarrativeText The master keeps several data structures. For each map task and reduce task, it stores the state (idle, in-progress, or completed) and the identity of the worker machine (for nonidle tasks).\n",
      "NarrativeText When a map task is executed first by worker A and then later exe- cuted by worker B (because A failed), all workers executing reduce tasks are notified of the reexecution. Any reduce task that has not already read the data from worker A will read the data from worker B.\n",
      "NarrativeText The master is the conduit through which the location of interme- diate file regions is propagated from map tasks to reduce tasks. There - fore, for each completed map task, the master stores the locations and sizes of the R intermediate file regions produced by the map task. Updates to this location and size information are received as map tasks are completed. The information is pushed incrementally to workers that have in-progress reduce tasks.\n",
      "NarrativeText MapReduce is resilient to large-scale worker failures. For example, during one MapReduce operation, network maintenance on a running cluster was causing groups of 80 machines at a time to become unreach- able for several minutes. The MapReduce master simply re executed the work done by the unreachable worker machines and continued to make forward progress, eventually completing the MapReduce operation.\n",
      "Title Semantics in the Presence of Failures\n",
      "Title 3.3 Fault Tolerance\n",
      "NarrativeText Since the MapReduce library is designed to help process very large amounts of data using hundreds or thousands of machines, the library must tolerate machine failures gracefully.\n",
      "NarrativeText When the user-supplied map and reduce operators are deterministic functions of their input values, our distributed implementation pro- duces the same output as would have been produced by a nonfaulting sequential execution of the entire program.\n",
      "Title COMMUNICATIONS OF THE ACM January 2008/Vol. 51, No. 1 109\n",
      "Title moo:\n",
      "NarrativeText We rely on atomic commits of map and reduce task outputs to achieve this property. Each in-progress task writes its output to private temporary files. A reduce task produces one such file, and a map task produces R such files (one per reduce task). When a map task com- pletes, the worker sends a message to the master and includes the names of the R temporary files in the message. If the master receives a comple- tion message for an already completed map task, it ignores the message. Otherwise, it records the names of R files in a master data structure.\n",
      "NarrativeText When a reduce task completes, the reduce worker atomically renames its temporary output file to the final output file. If the same reduce task is executed on multiple machines, multiple rename calls will be executed for the same final output file. We rely on the atomic rename operation pro- vided by the underlying file system to guarantee that the final file system state contains only the data produced by one execution of the reduce task.\n",
      "NarrativeText The vast majority of our map and reduce operators are deterministic, and the fact that our semantics are equivalent to a sequential execution in this case makes it very easy for programmers to reason about their program’s behavior. When the map and/or reduce operators are nonde- terministic, we provide weaker but still reasonable semantics. In the presence of nondeterministic operators, the output of a particular reduce task R1 is equivalent to the output for R1 produced by a sequen- tial execution of the nondeterministic program. However, the output for a different reduce task R2 may correspond to the output for R2 produced by a different sequential execution of the nondeterministic program.\n",
      "NarrativeText Consider map task M and reduce tasks R1 and R2. Let e(Ri) be the execution of R1 that committed (there is exactly one such execution). The weaker semantics arise because e(R1) may have read the output produced by one execution of M, and e(R2) may have read the output produced by a different execution of M.\n",
      "Title 3.4 Locality\n",
      "NarrativeText Network bandwidth is a relatively scarce resource in our computing envi- ronment. We conserve network bandwidth by taking advantage of the fact that the input data (managed by GFS [10]) is stored on the local disks of the machines that make up our cluster. GFS divides each file into 64MB blocks and stores several copies of each block (typically 3 copies) on different machines. The MapReduce master takes the loca- tion information of the input files into account and attempts to schedule a map task on a machine that contains a replica of the corresponding input data. Failing that, it attempts to schedule a map task near a replica of that task’s input data (e.g., on a worker machine that is on the same network switch as the machine containing the data). When running large MapReduce operations on a significant fraction of the workers in a clus- ter, most input data is read locally and consumes no network bandwidth.\n",
      "Title 3.5 Task Granularity\n",
      "NarrativeText We subdivide the map phase into M pieces and the reduce phase into R pieces as described previously. Ideally, M and R should be much larger than the number of worker machines. Having each worker per- form many different tasks improves dynamic load balancing and also speeds up recovery when a worker fails: the many map tasks it has completed can be spread out across all the other worker machines.\n",
      "NarrativeText There are practical bounds on how large M and R can be in our imple- mentation since the master must make O(M+R) scheduling decisions and keep O(M*R) state in memory as described. (The constant factors for memory usage are small, however. The O(M*R) piece of the state consists of approximately one byte of data per map task/ reduce task pair.)\n",
      "NarrativeText 110 January 2008/Vol. 51, No. 1 COMMUNICATIONS OF THE ACM\n",
      "NarrativeText Furthermore, R is often constrained by users because the output of each reduce task ends up in a separate output file. In practice, we tend to choose M so that each individual task is roughly 16MB to 64MB of input data (so that the locality optimization described previously is most effective), and we make R a small multiple of the number of worker machines we expect to use. We often perform MapReduce computa- tions with M=200,000 and R=5,000, using 2,000 worker machines.\n",
      "Title 3.6 Backup Tasks\n",
      "NarrativeText One of the common causes that lengthens the total time taken for a MapReduce operation is a straggler, that is, a machine that takes an unusually long time to complete one of the last few map or reduce tasks in the computation. Stragglers can arise for a whole host of reasons. For example, a machine with a bad disk may experience frequent cor- rectable errors that slow its read performance from 30MB/s to 1MB/s. The cluster scheduling system may have scheduled other tasks on the machine, causing it to execute the MapReduce code more slowly due to competition for CPU, memory, local disk, or network bandwidth. A recent problem we experienced was a bug in machine initialization code that caused processor caches to be disabled: computations on affected machines slowed down by over a factor of one hundred.\n",
      "NarrativeText We have a general mechanism to alleviate the problem of stragglers. When a MapReduce operation is close to completion, the master schedules backup executions of the remaining in-progress tasks. The task is marked as completed whenever either the primary or the backup execution completes. We have tuned this mechanism so that it typically increases the computational resources used by the operation by no more than a few percent. We have found that this significantly reduces the time to complete large MapReduce operations. As an example, the sort program described in Section 5.3 takes 44% longer to complete when the backup task mechanism is disabled.\n",
      "Title 4 Refinements\n",
      "NarrativeText Although the basic functionality provided by simply writing map and reduce functions is sufficient for most needs, we have found a few extensions useful. These include:\n",
      "ListItem e user-specified partitioning functions for determining the mapping of intermediate key values to the R reduce shards;\n",
      "ListItem e ordering guarantees: Our implementation guarantees that within each of the R reduce partitions, the intermediate key/value pairs are processed in increasing key order;\n",
      "ListItem © user-specified combiner functions for doing partial combination of generated intermediate values with the same key within the same map task (to reduce the amount of intermediate data that must be transferred across the network);\n",
      "ListItem © custom input and output types, for reading new input formats and producing new output formats;\n",
      "ListItem ¢ amode for execution on a single machine for simplifying debugging and small-scale testing.\n",
      "NarrativeText The original article has more detaile d discussions of each of these items [8].\n",
      "Title 5 Performance\n",
      "NarrativeText In this section, we measure the performance of MapReduce on two com- putations running on a large cluster of machines. One computation searches through approximately one terabyte of data looking for a particu- lar pattern. The other computation sorts approximately one terabyte of data.\n",
      "NarrativeText These two programs are representative of a large subset of the real programs written by users of MapReduce—one class of programs shuffles data from one representation to another, and another class extracts a small amount of interesting data from a large dataset.\n",
      "Title 5.1 Cluster Configuration\n",
      "NarrativeText All of the programs were executed on a cluster that consisted of approx- imately 1800 machines. Each machine had two 2GHz Intel Xeon processors with Hyper-Threading enabled, 4GB of memory, two 160GB IDE disks, and a gigabit Ethernet link. The machines were arranged in a two-level tree-shaped switched network with approxi- mately 100-200Gbps of aggregate bandwidth available at the root. All of the machines were in the same hosting facility and therefore the round- trip time between any pair of machines was less than a millisecond.\n",
      "NarrativeText Out of the 4GB of memory, approximately 1-1.5GB was reserved by other tasks running on the cluster. The programs were executed on a weekend afternoon when the CPUs, disks, and network were mostly idle.\n",
      "Title 5.2 Grep\n",
      "NarrativeText The grep program scans through 1010 100-byte records, searching for a rel- atively rare three-character pattern (the pattern occurs in 92,337 records). The input is split into approximately 64MB pieces (M = 15000), and the entire output is placed in one file (R = 1).\n",
      "Image O00 20000 10000 Input (MB/s) 0 20 40 6p 8D Seconds\n",
      "FigureCaption Fig. 2. Data transfer rate over time (mr-grep).\n",
      "NarrativeText Figure 2 shows the progress of the computation over time. The Y-axis shows the rate at which the input data is scanned. The rate grad- ually picks up as more machines are assigned to this MapReduce com- putation and peaks at over 30 GB/s when 1764 workers have been assigned. As the map tasks finish, the rate starts dropping and hits zero about 80 seconds into the computation. The entire computation takes approximately 150 seconds from start to finish. This includes about a minute of startup overhead. The overhead is due to the propagation of the program to all worker machines and delays interacting with GFS to open the set of 1000 input files and to get the information needed for the locality optimization.\n",
      "Title 5.3 Sort\n",
      "NarrativeText The sort program sorts 1010 100-byte records (approximately 1 terabyte of data). This program is modeled after the TeraSort benchmark [12].\n",
      "Header MapReduce: Simplified Data Processing on Large Clusters\n",
      "NarrativeText The sorting program consists of less than 50 lines of user code. The final sorted output is written to a set of 2-way replicated GFS files (i.e., 2 terabytes are written as the output of the program).\n",
      "NarrativeText As before, the input data is split into 64MB pieces (M = 15000). We partition the sorted output into 4000 files (R = 4000). The partitioning function uses the initial bytes of the key to segregate it into one of pieces.\n",
      "NarrativeText Our partitioning function for this benchmark has built-in knowl- edge of the distribution of keys. In a general sorting program, we would add a prepass MapReduce operation that would collect a sample of the keys and use the distribution of the sampled keys to compute split- points for the final sorting pass.\n",
      "Image ww 700 10000 a » » ao | 6100 Input (MBVs) Figure 2: Data transfer rate Over time (mr-grep) TW) Dx ~ one = iso 4 = ~ rooce | M4 E; ill | of 2 ee Ve +0) 1000 TOE) = = ise | <= z oud 4 2 50007 4 seu) 1000 TK) Ss 1s - | - 3 10000) 4 sooo 4 0 3M) 1000\n",
      "FigureCaption Fig. 3. Data transfer rate over time (mr-sort).\n",
      "NarrativeText Figure 3 shows the progress of a normal execution of the sort pro- gram. The top-left graph shows the rate at which input is read. The rate peaks at about 13GB/s and dies off fairly quickly since all map tasks fin- ish before 200 seconds have elapsed. Note that the input rate is less\n",
      "Title COMMUNICATIONS OF THE ACM January 2008/Vol. 51, No. 1 111\n",
      "Title mum\n",
      "NarrativeText than for grep. This is because the sort map tasks spend about half their time and I/O bandwidth writing intermediate output to their local disks. The corresponding intermediate output for grep had negligible size.\n",
      "NarrativeText A few things to note: the input rate is higher than the shuffle rate and the output rate because of our locality optimization; most data is read from a local disk and bypasses our relatively bandwidth con- strained network. The shuffle rate is higher than the output rate because the output phase writes two copies of the sorted data (we make two replicas of the output for reliability and availability reasons). We write two replicas because that is the mechanism for reliability and availability provided by our underlying file system. Network bandwidth requirements for writing data would be reduced if the underlying file system used erasure coding [15] rather than replication.\n",
      "NarrativeText The original article has further experiments that examine the effects of backup tasks and machine failures [8].\n",
      "Title 6 Experience\n",
      "NarrativeText We wrote the first version of the MapReduce library in February of 2003 and made significant enhancements to it in August of 2003, including the locality optimization, dynamic load balancing of task exe- cution across worker machines, etc. Since that time, we have been pleasantly surprised at how broadly applicable the MapReduce library has been for the kinds of problems we work on. It has been used across a wide range of domains within Google, including:\n",
      "ListItem e large-scale machine learning problems,\n",
      "ListItem ° clustering problems for the Google News and Froogle products,\n",
      "ListItem © extracting data to produce reports of popular queries (e.g. Google Zeitgeist and Google Trends),\n",
      "ListItem © extracting properties of Web pages for new experiments and prod- ucts (e.g. extraction of geographical locations from a large corpus of Web pages for localized search),\n",
      "ListItem © processing of satellite imagery data,\n",
      "ListItem e language model processing for statistical machine translation, and\n",
      "ListItem e large-scale graph computations.\n",
      "Image aK) Number of instances in source tree = Ls mS BN ce a ST Cm be we be be be = = = = z = = a = =\n",
      "FigureCaption Fig. 4. MapReduce instances over time.\n",
      "ListItem 112 January 2008/Vol. 51, No. 1 COMMUNICATIONS OF THE ACM\n",
      "NarrativeText Figure 4 shows the significant growth in the number of separate MapReduce programs checked into our primary source-code manage- ment system over time, from 0 in early 2003 to almost 900 in Septem - ber 2004, to about 4000 in March 2006. MapReduce has been so successful because it makes it possible to write a simple program and run it efficiently on a thousand machines in a half hour, greatly speed- ing up the development and prototyping cycle. Furthermore, it allows programmers who have no experience with distributed and/or parallel systems to exploit large amounts of resources easily.\n",
      "Title Table I. MapReduce Statistics for Different Months.\n",
      "Table Aug. ’04 Mar. ’06 Sep. ’07 Number of jobs (1000s) 29 171 2,217 Avg. completion time (secs) 634 874 395 Machine years used 217 2,002 11,081 map input data (TB) 3,288 52,254 403,152 map output data (TB) 758 6,743 34,774 reduce output data (TB) 193 2,970 14,018 Avg. machines per job 157 268 394 Unique implementations map 395 1958 4083 reduce 269 1208 2418\n",
      "NarrativeText At the end of each job, the MapReduce library logs statistics about the computational resources used by the job. In Table I, we show some statistics for a subset of MapReduce jobs run at Google in various months, highlighting the extent to which MapReduce has grown and become the de facto choice for nearly all data processing needs at Google.\n",
      "Title 6.1 Large-Scale Indexing\n",
      "NarrativeText One of our most significant uses of MapReduce to date has been a complete rewrite of the production indexing system that produces the data structures used for the Google Web search service. The indexing system takes as input a large set of documents that have been retrieved by our crawling system, stored as a set of GFS files. The raw contents for these documents are more than 20 terabytes of data. At the time we converted the indexing system to use MapReduce in 2003, it ran as a sequence of eight MapReduce operations. Since that time, because of the ease with which new phases can be added, many new phases have been added to the indexing system. Using MapReduce (instead of the ad-hoc distributed passes in the prior version of the indexing system) has provided several benefits.\n",
      "ListItem e The indexing code is simpler, smaller, and easier to understand be- cause the code that deals with fault tolerance, distribution, and par- allelization is hidden within the MapReduce library. For example, the size of one phase of the computation dropped from approximately 3800 lines of C++ code to approximately 700 lines when expressed using MapReduce.\n",
      "ListItem e The performance of the MapReduce library is good enough that we can keep conceptually unrelated computations separate instead of mixing them together to avoid extra passes over the data. This makes it easy to change the indexing process. For example, one change that took a few months to make in our old indexing system took only a few days to implement in the new system.\n",
      "ListItem The indexing process has become much easier to operate because most of the problems caused by machine failures, slow machines, and networking hiccups are dealt with automatically by the MapRe- duce library without operator intervention. Furthermore, it is easy to improve the performance of the indexing process by adding new ma- chines to the indexing cluster.\n",
      "Title 7 Related Work\n",
      "NarrativeText Many systems have provided restricted programming models and used the restrictions to parallelize the computation automatically. For example, an associative function can be computed over all prefixes of an N element array in log N time on N processors using parallel prefix computations [6, 11, 14]. MapReduce can be considered a simplification and distillation of some of these models based on our experience with large real-world com- putations. More significantly, we provide a fault-tolerant implementation that scales to thousands of processors. In contrast, most of the parallel processing systems have only been implemented on smaller scales and leave the details of handling machine failures to the programmer.\n",
      "NarrativeText Our locality optimization draws its inspiration from techniques such as active disks [13, 17], where computation is pushed into pro- cessing elements that are close to local disks, to reduce the amount of data sent across I/O subsystems or the network.\n",
      "NarrativeText The sorting facility that is a part of the MapReduce library is simi- lar in operation to NOW-Sort [3]. Source machines (map workers) partition the data to be sorted and send it to one of R reduce workers. Each reduce worker sorts its data locally (in memory if possible). Of course NOW-Sort does not have the user-definable map and reduce functions that make our library widely applicable.\n",
      "NarrativeText BAD-FS [5] and TACC [9] are two other systems that rely on re - execution as a mechanism for implementing fault tolerance.\n",
      "NarrativeText The original article has a more complete treatment of related work [8].\n",
      "Title Conclusions\n",
      "NarrativeText The MapReduce programming model has been successfully used at Google for many different purposes. We attribute this success to several reasons. First, the model is easy to use, even for programmers without ex- perience with parallel and distributed systems, since it hides the details of parallelization, fault tolerance, locality optimization, and load balanc- ing. Second, a large variety of problems are easily expressible as MapRe- duce computations. For example, MapReduce is used for the generation of data for Google’s production Web search service, for sorting, data min- ing, machine learning, and many other systems. Third, we have developed an implementation of MapReduce that scales to large clusters of ma- chines comprising thousands of machines. The implementation makes efficient use of these machine resources and therefore is suitable for use on many of the large computational problems encountered at Google.\n",
      "NarrativeText By restricting the programming model, we have made it easy to par- allelize and distribute computations and to make such computations fault tolerant. Second, network bandwidth is a scarce resource. A number of optimizations in our system are therefore targeted at reduc- ing the amount of data sent across the network: the locality optimiza- tion allows us to read data from local disks, and writing a single copy of the intermediate data to local disk saves network bandwidth. Third, redundant execution can be used to reduce the impact of slow machines, and to handle machine failures and data loss.\n",
      "Header MapReduce: Simplified Data Processing on Large Clusters\n",
      "Title Acknowledgements\n",
      "NarrativeText Josh Levenberg has been instrumental in revising and extending the user- level MapReduce API with a number of new features. We would like to es- pecially thank others who have worked on the system and all the users of MapReduce in Google’s engineering organization for providing helpful feedback, suggestions, and bug reports.\n",
      "Title References\n",
      "ListItem 1. Hadoop: Open source implementation of MapReduce. http:// lucene. apache.org/hadoop/.\n",
      "ListItem 2. The Phoenix system for MapReduce programming. http:// csl. stanford. edu/~christos/sw/phoenix/.\n",
      "ListItem 3. Arpaci-Dusseau, A. C., Arpaci-Dusseau, R. H., Culler, D. E., Heller- stein, J. M., and Patterson, D. A. 1997. High-performance sorting on networks of workstations. In Proceedings of the 1997 ACM SIGMOD International Conference on Management of Data. Tucson, AZ.\n",
      "ListItem 4 Barroso, L. A., Dean, J., and Urs Hölzle, U. 2003. Web search for a planet: The Google cluster architecture. IEEE Micro 23, 2, 22-28.\n",
      "ListItem 5. Bent, J., Thain, D., Arpaci-Dusseau, A. C., Arpaci-Dusseau, R. H., and Livny, M. 2004. Explicit control in a batch-aware distributed file system. In Proceedings of the 1st USENIX Symposium on Networked Systems Design and Implementation (NSDI).\n",
      "ListItem 6. Blelloch, G. E. 1989. Scans as primitive parallel operations. IEEE Trans. Comput. C-38, 11.\n",
      "ListItem 7. Chu, C.-T., Kim, S. K., Lin, Y. A., Yu, Y., Bradski, G., Ng, A., and Olukotun, K. 2006. Map-Reduce for machine learning on multicore. In Proceedings of Neural Information Processing Systems Conference (NIPS). Vancouver, Canada.\n",
      "ListItem 8. Dean, J. and Ghemawat, S. 2004. MapReduce: Simplified data pro- cessing on large clusters. In Proceedings of Operating Systems Design and Implementation (OSDI). San Francisco, CA. 137-150.\n",
      "ListItem 9. Fox, A., Gribble, S. D., Chawathe, Y., Brewer, E. A., and Gauthier, P. 1997. Cluster-based scalable network services. In Proceedings of the 16th ACM Symposium on Operating System Principles. Saint-Malo, France. 78-91.\n",
      "ListItem 10. Ghemawat, S., Gobioff, H., and Leung, S.-T. 2003. The Google file system. In 19th Symposium on Operating Systems Principles. Lake George, NY. 29-43.\n",
      "ListItem 11. Gorlatch, S. 1996. Systematic efficient parallelization of scan and other list homomorphisms. In L. Bouge, P. Fraigniaud, A. Mignotte, and Y. Robert, Eds. Euro-Par’96. Parallel Processing, Lecture Notes in Computer Science, vol. 1124. Springer-Verlag. 401-408\n",
      "ListItem 12. Gray, J. Sort benchmark home page. http:// research. microsoft. com/ barc/ SortBenchmark/.\n",
      "ListItem 13. Huston, L., Sukthankar, R., Wickremesinghe, R., Satyanarayanan, M., Ganger, G. R., Riedel, E., and Ailamaki, A. 2004. Diamond: A storage architecture for early discard in interactive search. In Proceed ings of the 2004 USENIX File and Storage Technologies FAST Conference.\n",
      "ListItem 14. Ladner, R. E., and Fischer, M. J. 1980. Parallel prefix computation. JACM 27, 4. 831-838.\n",
      "ListItem 15. Rabin, M. O. 1989. Efficient dispersal of information for security, load balancing and fault tolerance. JACM 36, 2. 335-348.\n",
      "ListItem 16. Ranger, C., Raghuraman, R., Penmetsa, A., Bradski, G., and Kozyrakis, C. 2007. Evaluating mapreduce for multi-core and multi- processor systems. In Proceedings of 13th International Symposium on High-Performance Computer Architecture (HPCA). Phoenix, AZ.\n",
      "ListItem 17. Riedel, E., Faloutsos, C., Gibson, G. A., and Nagle, D. Active disks for large-scale data processing. IEEE Computer. 68-74.\n",
      "Title COMMUNICATIONS OF THE ACM January 2008/Vol. 51, No. 1 113\n",
      "Title mum:\n"
     ]
    }
   ],
   "source": [
    "for element in elements:\n",
    "    print(element.category, element.text)"
   ]
  },
  {
   "cell_type": "markdown",
   "metadata": {},
   "source": [
    "### Extracting Images    "
   ]
  },
  {
   "cell_type": "code",
   "execution_count": 103,
   "metadata": {},
   "outputs": [
    {
     "data": {
      "text/plain": [
       "['Image Path: /Users/faizahmed/Documents/SJSU/topics_in_db/Project/explorations/pdf_parsing/figures/figure-1-1.jpg and location 1',\n",
       " 'Image Path: /Users/faizahmed/Documents/SJSU/topics_in_db/Project/explorations/pdf_parsing/figures/figure-3-2.jpg and location 3',\n",
       " 'Image Path: /Users/faizahmed/Documents/SJSU/topics_in_db/Project/explorations/pdf_parsing/figures/figure-5-3.jpg and location 5',\n",
       " 'Image Path: /Users/faizahmed/Documents/SJSU/topics_in_db/Project/explorations/pdf_parsing/figures/figure-5-4.jpg and location 5',\n",
       " 'Image Path: /Users/faizahmed/Documents/SJSU/topics_in_db/Project/explorations/pdf_parsing/figures/figure-6-5.jpg and location 6']"
      ]
     },
     "execution_count": 103,
     "metadata": {},
     "output_type": "execute_result"
    }
   ],
   "source": [
    "images = [element for element in elements if element.category == \"Image\"]\n",
    "[f\"Image Path: {image.metadata.image_path} and location {image.metadata.page_number}\" for image in images]"
   ]
  },
  {
   "cell_type": "code",
   "execution_count": null,
   "metadata": {},
   "outputs": [
    {
     "data": {
      "text/plain": [
       "'/Users/faizahmed/Documents/SJSU/topics_in_db/Project/explorations/pdf_parsing/figures/figure-5-3.jpg'"
      ]
     },
     "execution_count": 77,
     "metadata": {},
     "output_type": "execute_result"
    }
   ],
   "source": []
  },
  {
   "cell_type": "code",
   "execution_count": null,
   "metadata": {},
   "outputs": [],
   "source": []
  }
 ],
 "metadata": {
  "kernelspec": {
   "display_name": "Python 3",
   "language": "python",
   "name": "python3"
  },
  "language_info": {
   "codemirror_mode": {
    "name": "ipython",
    "version": 3
   },
   "file_extension": ".py",
   "mimetype": "text/x-python",
   "name": "python",
   "nbconvert_exporter": "python",
   "pygments_lexer": "ipython3",
   "version": "3.11.8"
  }
 },
 "nbformat": 4,
 "nbformat_minor": 2
}
